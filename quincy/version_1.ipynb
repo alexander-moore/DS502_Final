{
 "cells": [
  {
   "cell_type": "code",
   "execution_count": 1,
   "metadata": {},
   "outputs": [],
   "source": [
    "# Rational Player Simulator\n",
    "# step 1: Calculate max distance player can travel given velocity and acceleration.\n",
    "# step 2: Identify the 90 degree arc of every player centered on facing direction, with radius of max distace.\n",
    "# step 3: Move ball holder to the location in player's arc furthest from any enemy.\n",
    "# step 4: Move defense to location in player's arc closest to ball holder.\n",
    "# step 5: If offense has defense player(s) in player's arc, collide with closest defense player.\n",
    "# step 6: If any defense player is not tackled and reached ball holder, collide with ball holder.\n",
    "# step 7: If ball holder isn't tackled, Update every player's position, velocity, and direction."
   ]
  },
  {
   "cell_type": "code",
   "execution_count": 1,
   "metadata": {},
   "outputs": [
    {
     "name": "stderr",
     "output_type": "stream",
     "text": [
      "Using TensorFlow backend.\n"
     ]
    }
   ],
   "source": [
    "import numpy as np\n",
    "import pandas as pd\n",
    "from keras.models import Sequential\n",
    "from keras.layers import Conv2D, MaxPooling2D, Dropout, Flatten, Dense\n",
    "from keras.callbacks import EarlyStopping\n",
    "from sklearn.model_selection import train_test_split\n",
    "from sklearn.preprocessing import StandardScaler\n",
    "\n",
    "np.set_printoptions(threshold=np.inf)"
   ]
  },
  {
   "cell_type": "code",
   "execution_count": 2,
   "metadata": {},
   "outputs": [
    {
     "name": "stderr",
     "output_type": "stream",
     "text": [
      "C:\\Users\\Ethan\\Anaconda3\\envs\\DS\\lib\\site-packages\\IPython\\core\\interactiveshell.py:3058: DtypeWarning: Columns (47) have mixed types. Specify dtype option on import or set low_memory=False.\n",
      "  interactivity=interactivity, compiler=compiler, result=result)\n"
     ]
    }
   ],
   "source": [
    "raw_data = pd.read_csv('data/train.csv')"
   ]
  },
  {
   "cell_type": "code",
   "execution_count": 3,
   "metadata": {},
   "outputs": [
    {
     "name": "stdout",
     "output_type": "stream",
     "text": [
      "23171\n",
      "Index(['GameId', 'PlayId', 'Team', 'X', 'Y', 'S', 'A', 'Dis', 'Orientation',\n",
      "       'Dir', 'NflId', 'DisplayName', 'JerseyNumber', 'Season', 'YardLine',\n",
      "       'Quarter', 'GameClock', 'PossessionTeam', 'Down', 'Distance',\n",
      "       'FieldPosition', 'HomeScoreBeforePlay', 'VisitorScoreBeforePlay',\n",
      "       'NflIdRusher', 'OffenseFormation', 'OffensePersonnel',\n",
      "       'DefendersInTheBox', 'DefensePersonnel', 'PlayDirection', 'TimeHandoff',\n",
      "       'TimeSnap', 'Yards', 'PlayerHeight', 'PlayerWeight', 'PlayerBirthDate',\n",
      "       'PlayerCollegeName', 'Position', 'HomeTeamAbbr', 'VisitorTeamAbbr',\n",
      "       'Week', 'Stadium', 'Location', 'StadiumType', 'Turf', 'GameWeather',\n",
      "       'Temperature', 'Humidity', 'WindSpeed', 'WindDirection'],\n",
      "      dtype='object')\n"
     ]
    }
   ],
   "source": [
    "print(np.unique(raw_data['PlayId'].values).size)\n",
    "print(raw_data.columns)"
   ]
  },
  {
   "cell_type": "code",
   "execution_count": 4,
   "metadata": {},
   "outputs": [],
   "source": [
    "IMAGE_SCALE = 1"
   ]
  },
  {
   "cell_type": "code",
   "execution_count": 5,
   "metadata": {},
   "outputs": [],
   "source": [
    "data = pd.DataFrame()\n",
    "data['id'] = raw_data['PlayId']\n",
    "data['dir'] = raw_data['PlayDirection']\n",
    "data['yards'] = raw_data['Yards']\n",
    "data['x'] = (raw_data['X']*IMAGE_SCALE).round()\n",
    "data['y'] = (raw_data['Y']*IMAGE_SCALE).round()\n",
    "data['ox'] = np.sin(np.deg2rad(raw_data['Orientation']))\n",
    "data['oy'] = np.cos(np.deg2rad(raw_data['Orientation']))\n",
    "data['dx'] = raw_data['Dis'] * np.sin(np.deg2rad(raw_data['Dir']))\n",
    "data['dy'] = raw_data['Dis'] * np.cos(np.deg2rad(raw_data['Dir']))\n",
    "data['vx'] = raw_data['S'] * np.sin(np.deg2rad(raw_data['Dir']))\n",
    "data['vy'] = raw_data['S'] * np.cos(np.deg2rad(raw_data['Dir']))\n",
    "data['ax'] = raw_data['A'] * np.sin(np.deg2rad(raw_data['Dir']))\n",
    "data['ay'] = raw_data['A'] * np.cos(np.deg2rad(raw_data['Dir']))\n",
    "data['offense'] = np.equal(raw_data['Team'].values, 'home') * np.equal(raw_data['HomeTeamAbbr'].values, raw_data['PossessionTeam'].values) + np.equal(raw_data['Team'].values, 'away') * np.equal(raw_data['VisitorTeamAbbr'].values, raw_data['PossessionTeam'].values)\n",
    "data['defence'] = data['offense'].apply(lambda x: not x)\n",
    "data['direction'] = np.equal(raw_data['PlayDirection'],'right')\n",
    "data['height'] = raw_data['PlayerHeight'].apply(lambda x: [int(n)*12 for n in x.split('-')][0] + [int(n) for n in x.split('-')][1])\n",
    "data['weight'] = raw_data['PlayerWeight']\n",
    "data['age'] = raw_data['PlayerBirthDate'].apply(lambda x: 2019 - int(x.split('/')[2]))\n",
    "\n",
    "ss = StandardScaler()\n",
    "norm_data = data[['dx','dy','vx','vy','ax','ay','height','weight','age']]\n",
    "data[norm_data.columns] = ss.fit_transform(norm_data)"
   ]
  },
  {
   "cell_type": "code",
   "execution_count": 7,
   "metadata": {},
   "outputs": [
    {
     "name": "stdout",
     "output_type": "stream",
     "text": [
      "16766 out of 23171 plays with overlap.\n",
      "Max x Span: 55.0\n",
      "Max y Span: 47.0\n"
     ]
    }
   ],
   "source": [
    "field = []\n",
    "yards = []\n",
    "x_span = []\n",
    "y_span = []\n",
    "overlap = 0\n",
    "for _,play in data.groupby(['id']):\n",
    "    if play[['x','y']].pivot_table(index=['x','y'],aggfunc='size').max() > 1:\n",
    "        overlap += 1\n",
    "    x_span.append(play['x'].max()-play['x'].min())\n",
    "    y_span.append(play['y'].max()-play['y'].min())\n",
    "    #f = np.zeros((px+1,py+1,14))\n",
    "    #for i,d in enumerate(play.drop(['id','dir','yards','x','y'],axis=1).columns):\n",
    "    #    for r,c,v in zip(play['y'].values, play['x'].values, play[d].values):\n",
    "    #        if play['dir'].values[0] == 'right':\n",
    "    #            f[int(r),int(c),i] += v\n",
    "    #        else:\n",
    "    #            f[int(r),py-int(c),i] += v\n",
    "    #field.append(f)\n",
    "    #yards.append(play['yards'].values[0])\n",
    "print(str(overlap) + ' out of ' + str(np.unique(data['id'].values).size) + ' plays with overlap.')\n",
    "print('Max x Span: ' + str(max(x_span)))\n",
    "print('Max y Span: ' + str(max(y_span)))"
   ]
  },
  {
   "cell_type": "code",
   "execution_count": 15,
   "metadata": {},
   "outputs": [
    {
     "ename": "MemoryError",
     "evalue": "",
     "output_type": "error",
     "traceback": [
      "\u001b[1;31m---------------------------------------------------------------------------\u001b[0m",
      "\u001b[1;31mMemoryError\u001b[0m                               Traceback (most recent call last)",
      "\u001b[1;32m<ipython-input-15-e8cd5a2966fd>\u001b[0m in \u001b[0;36m<module>\u001b[1;34m\u001b[0m\n\u001b[1;32m----> 1\u001b[1;33m \u001b[0mfield\u001b[0m \u001b[1;33m=\u001b[0m \u001b[0mnp\u001b[0m\u001b[1;33m.\u001b[0m\u001b[0mstack\u001b[0m\u001b[1;33m(\u001b[0m\u001b[0mfield\u001b[0m\u001b[1;33m)\u001b[0m\u001b[1;33m\u001b[0m\u001b[1;33m\u001b[0m\u001b[0m\n\u001b[0m\u001b[0;32m      2\u001b[0m \u001b[0myards\u001b[0m \u001b[1;33m=\u001b[0m \u001b[0mnp\u001b[0m\u001b[1;33m.\u001b[0m\u001b[0marray\u001b[0m\u001b[1;33m(\u001b[0m\u001b[0myards\u001b[0m\u001b[1;33m)\u001b[0m\u001b[1;33m\u001b[0m\u001b[1;33m\u001b[0m\u001b[0m\n\u001b[0;32m      3\u001b[0m \u001b[0mfield_trn\u001b[0m\u001b[1;33m,\u001b[0m \u001b[0mfield_val\u001b[0m\u001b[1;33m,\u001b[0m \u001b[0myards_trn\u001b[0m\u001b[1;33m,\u001b[0m \u001b[0myards_val\u001b[0m \u001b[1;33m=\u001b[0m \u001b[0mtrain_test_split\u001b[0m\u001b[1;33m(\u001b[0m\u001b[0mfield\u001b[0m\u001b[1;33m,\u001b[0m \u001b[0myards\u001b[0m\u001b[1;33m,\u001b[0m \u001b[0mtrain_size\u001b[0m\u001b[1;33m=\u001b[0m\u001b[1;36m0.75\u001b[0m\u001b[1;33m)\u001b[0m\u001b[1;33m\u001b[0m\u001b[1;33m\u001b[0m\u001b[0m\n\u001b[0;32m      4\u001b[0m \u001b[0mprint\u001b[0m\u001b[1;33m(\u001b[0m\u001b[0mfield_trn\u001b[0m\u001b[1;33m.\u001b[0m\u001b[0mshape\u001b[0m\u001b[1;33m)\u001b[0m\u001b[1;33m\u001b[0m\u001b[1;33m\u001b[0m\u001b[0m\n\u001b[0;32m      5\u001b[0m \u001b[0mprint\u001b[0m\u001b[1;33m(\u001b[0m\u001b[0myards_trn\u001b[0m\u001b[1;33m.\u001b[0m\u001b[0mshape\u001b[0m\u001b[1;33m)\u001b[0m\u001b[1;33m\u001b[0m\u001b[1;33m\u001b[0m\u001b[0m\n",
      "\u001b[1;32m~\\Anaconda3\\envs\\DS\\lib\\site-packages\\numpy\\core\\shape_base.py\u001b[0m in \u001b[0;36mstack\u001b[1;34m(arrays, axis, out)\u001b[0m\n\u001b[0;32m    421\u001b[0m     \u001b[0msl\u001b[0m \u001b[1;33m=\u001b[0m \u001b[1;33m(\u001b[0m\u001b[0mslice\u001b[0m\u001b[1;33m(\u001b[0m\u001b[1;32mNone\u001b[0m\u001b[1;33m)\u001b[0m\u001b[1;33m,\u001b[0m\u001b[1;33m)\u001b[0m \u001b[1;33m*\u001b[0m \u001b[0maxis\u001b[0m \u001b[1;33m+\u001b[0m \u001b[1;33m(\u001b[0m\u001b[0m_nx\u001b[0m\u001b[1;33m.\u001b[0m\u001b[0mnewaxis\u001b[0m\u001b[1;33m,\u001b[0m\u001b[1;33m)\u001b[0m\u001b[1;33m\u001b[0m\u001b[1;33m\u001b[0m\u001b[0m\n\u001b[0;32m    422\u001b[0m     \u001b[0mexpanded_arrays\u001b[0m \u001b[1;33m=\u001b[0m \u001b[1;33m[\u001b[0m\u001b[0marr\u001b[0m\u001b[1;33m[\u001b[0m\u001b[0msl\u001b[0m\u001b[1;33m]\u001b[0m \u001b[1;32mfor\u001b[0m \u001b[0marr\u001b[0m \u001b[1;32min\u001b[0m \u001b[0marrays\u001b[0m\u001b[1;33m]\u001b[0m\u001b[1;33m\u001b[0m\u001b[1;33m\u001b[0m\u001b[0m\n\u001b[1;32m--> 423\u001b[1;33m     \u001b[1;32mreturn\u001b[0m \u001b[0m_nx\u001b[0m\u001b[1;33m.\u001b[0m\u001b[0mconcatenate\u001b[0m\u001b[1;33m(\u001b[0m\u001b[0mexpanded_arrays\u001b[0m\u001b[1;33m,\u001b[0m \u001b[0maxis\u001b[0m\u001b[1;33m=\u001b[0m\u001b[0maxis\u001b[0m\u001b[1;33m,\u001b[0m \u001b[0mout\u001b[0m\u001b[1;33m=\u001b[0m\u001b[0mout\u001b[0m\u001b[1;33m)\u001b[0m\u001b[1;33m\u001b[0m\u001b[1;33m\u001b[0m\u001b[0m\n\u001b[0m\u001b[0;32m    424\u001b[0m \u001b[1;33m\u001b[0m\u001b[0m\n\u001b[0;32m    425\u001b[0m \u001b[1;33m\u001b[0m\u001b[0m\n",
      "\u001b[1;31mMemoryError\u001b[0m: "
     ]
    }
   ],
   "source": [
    "field = np.stack(field)\n",
    "yards = np.array(yards)\n",
    "field_trn, field_val, yards_trn, yards_val = train_test_split(field, yards, train_size=0.75)\n",
    "print(field_trn.shape)\n",
    "print(yards_trn.shape)"
   ]
  },
  {
   "cell_type": "code",
   "execution_count": null,
   "metadata": {},
   "outputs": [],
   "source": [
    "model = Sequential()\n",
    "model.add(Conv2D(filters=32, kernel_size=(3,3), strides=(1, 1),activation='relu',input_shape=(field_trn.shape[1:])))\n",
    "#model.add(MaxPooling2D(pool_size=(2,2)))\n",
    "#model.add(Dropout(0.5))\n",
    "#model.add(Conv2D(filters=64, kernel_size=(3,3), strides=(1, 1),activation='relu'))\n",
    "#model.add(MaxPooling2D(pool_size=(2,2)))\n",
    "#model.add(Dropout(0.5))\n",
    "#model.add(Conv2D(filters=128, kernel_size=(3,3), strides=(1, 1),activation='relu'))\n",
    "#model.add(MaxPooling2D(pool_size=(2,2)))\n",
    "#model.add(Dropout(0.5))\n",
    "model.add(Flatten())\n",
    "#model.add(Dense(units=128,activation='relu'))\n",
    "model.add(Dense(units=16,activation='relu'))\n",
    "model.add(Dense(units=1,activation='linear'))\n",
    "model.compile(optimizer='adam',loss='mse',metrics=['accuracy'])\n",
    "callbacks = [EarlyStopping(monitor='val_loss',patience=5,restore_best_weights=False)]"
   ]
  },
  {
   "cell_type": "code",
   "execution_count": null,
   "metadata": {},
   "outputs": [],
   "source": [
    "model.fit(x=field_trn,y=yards_trn,epochs=1000,verbose=1,callbacks=callbacks,validation_data=(field_val,yards_val))"
   ]
  },
  {
   "cell_type": "code",
   "execution_count": null,
   "metadata": {},
   "outputs": [],
   "source": [
    "print(np.stack(model.predict(field_val).tolist(),yards_val.tolist()))"
   ]
  },
  {
   "cell_type": "code",
   "execution_count": null,
   "metadata": {},
   "outputs": [],
   "source": []
  }
 ],
 "metadata": {
  "kernelspec": {
   "display_name": "Python 3",
   "language": "python",
   "name": "python3"
  },
  "language_info": {
   "codemirror_mode": {
    "name": "ipython",
    "version": 3
   },
   "file_extension": ".py",
   "mimetype": "text/x-python",
   "name": "python",
   "nbconvert_exporter": "python",
   "pygments_lexer": "ipython3",
   "version": "3.7.4"
  }
 },
 "nbformat": 4,
 "nbformat_minor": 2
}
