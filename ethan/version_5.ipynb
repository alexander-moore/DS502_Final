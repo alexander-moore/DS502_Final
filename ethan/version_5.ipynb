{
 "cells": [
  {
   "cell_type": "code",
   "execution_count": 24,
   "metadata": {},
   "outputs": [],
   "source": [
    "import numpy as np\n",
    "import pandas as pd\n",
    "from sklearn.model_selection import train_test_split\n",
    "from sklearn.linear_model import LinearRegression, RidgeCV, LassoCV\n",
    "from sklearn.preprocessing import PolynomialFeatures\n",
    "from sklearn.pipeline import make_pipeline\n",
    "from sklearn.tree import DecisionTreeRegressor\n",
    "from scipy.interpolate import UnivariateSpline\n",
    "from sklearn.metrics import mean_squared_error\n",
    "from sklearn.neighbors import KNeighborsRegressor\n",
    "from sklearn.decomposition import PCA\n",
    "import matplotlib.pyplot as plt\n",
    "import matplotlib.lines as mlines\n",
    "import sys\n",
    "import os\n",
    "import pickle\n",
    "import warnings\n",
    "\n",
    "if not sys.warnoptions:\n",
    "    warnings.simplefilter(\"ignore\")\n",
    "    os.environ[\"PYTHONWARNINGS\"] = \"ignore\"\n",
    "\n",
    "np.set_printoptions(threshold=np.inf)"
   ]
  },
  {
   "cell_type": "code",
   "execution_count": 2,
   "metadata": {},
   "outputs": [],
   "source": [
    "def get_time(quarter, clock):\n",
    "    split_time = clock.split(':')\n",
    "    return (quarter-1)*15 + int(split_time[0]) + int(split_time[1])/60\n",
    "\n",
    "def get_distance_to_touchdown(yard_line, possession_team, field_position):\n",
    "    if possession_team != field_position:\n",
    "        return yard_line\n",
    "    else:\n",
    "        return 100 - yard_line\n",
    "\n",
    "def get_time_since_snap(time_handoff, time_snap):\n",
    "    split_handoff = time_handoff.split(':')\n",
    "    handoff_sec = int(split_handoff[1])*60 + int(split_handoff[2].split('.')[0])\n",
    "    split_snap = time_handoff.split(':')\n",
    "    snap_sec = int(split_snap[1])*60 + int(split_snap[2].split('.')[0])\n",
    "    return float(handoff_sec) - float(snap_sec)\n",
    "\n",
    "def get_height(player_height):\n",
    "    split_height = player_height.split('-')\n",
    "    return int(split_height[0])*12 + int(split_height[1])\n",
    "\n",
    "def get_age(player_birth_date):\n",
    "    return 2019 - int(player_birth_date.split('/')[2])\n",
    "\n",
    "def encode_personnel(personnel):\n",
    "    PERSONNELS = ['DB', 'DL', 'LB', 'OL', 'QB', 'RB', 'TE', 'WR']\n",
    "    encoded_personnel = [0]*len(PERSONNELS)\n",
    "    personnel = personnel.replace(' ','')\n",
    "    for i in range(0,len(personnel),4):\n",
    "        encoded_personnel[PERSONNELS.index(personnel[i+1:i+3])] += int(personnel[i])\n",
    "    return encoded_personnel\n",
    "\n",
    "def get_offense_features(formation, personnel):\n",
    "    FORMATIONS = ['SHOTGUN','SINGLEBACK','JUMBO','PISTOL','I_FORM','ACE','WILDCAT','EMPTY']\n",
    "    one_hot_formation = [int(f == formation) for f in FORMATIONS]\n",
    "    return one_hot_formation + encode_personnel(personnel)\n",
    "\n",
    "def get_defense_features(in_the_box, personnel):\n",
    "    return [in_the_box] + encode_personnel(personnel)"
   ]
  },
  {
   "cell_type": "code",
   "execution_count": 3,
   "metadata": {},
   "outputs": [],
   "source": [
    "raw_data = pd.read_csv('data/train.csv')\n",
    "raw_data['Temperature'] = raw_data['Temperature'].fillna(raw_data['Temperature'].mean())\n",
    "raw_data['Humidity'] = raw_data['Humidity'].fillna(raw_data['Humidity'].mean())\n",
    "raw_data = raw_data.dropna()\n",
    "plays = np.unique(raw_data['PlayId'])\n",
    "plays_trn, plays_val_tst = train_test_split(plays, train_size=0.5)\n",
    "plays_val, plays_tst = train_test_split(plays_val_tst, train_size=0.5)\n",
    "trn_data = raw_data[raw_data['PlayId'].isin(plays_trn)]\n",
    "val_data = raw_data[raw_data['PlayId'].isin(plays_val)]\n",
    "tst_data = raw_data[raw_data['PlayId'].isin(plays_tst)]"
   ]
  },
  {
   "cell_type": "code",
   "execution_count": 4,
   "metadata": {},
   "outputs": [],
   "source": [
    "trn_input = []\n",
    "trn_target = []\n",
    "val_input = []\n",
    "val_target = []\n",
    "tst_input = []\n",
    "tst_target = []"
   ]
  },
  {
   "cell_type": "code",
   "execution_count": null,
   "metadata": {},
   "outputs": [],
   "source": [
    "for _data, _input, _target in zip([trn_data, val_data, tst_data], [trn_input, val_input, tst_input], [trn_target, val_target, tst_target]):\n",
    "    for _,play in _data.groupby(['PlayId']):\n",
    "        state_features = []\n",
    "        state_features.append(get_distance_to_touchdown(play['YardLine'].iloc[0], play['PossessionTeam'].iloc[0], play['FieldPosition'].iloc[0]))\n",
    "        state_features.append(get_time(play['Quarter'].iloc[0],play['GameClock'].iloc[0]))\n",
    "        state_features.append(play['Down'].iloc[0])\n",
    "        state_features.append(play['Distance'].iloc[0])\n",
    "        state_features.append(get_time_since_snap(play['TimeHandoff'].iloc[0], play['TimeSnap'].iloc[0]))\n",
    "        state_features.append(play['Temperature'].iloc[0])\n",
    "        state_features.append(play['Humidity'].iloc[0])\n",
    "        \n",
    "        offense_features = get_offense_features(play['OffenseFormation'].iloc[0], play['OffensePersonnel'].iloc[0])\n",
    "        \n",
    "        defense_features = get_defense_features(play['DefendersInTheBox'].iloc[0], play['DefensePersonnel'].iloc[0])    \n",
    "        \n",
    "        runner = play.loc[play['NflId'] == play['NflIdRusher']]\n",
    "        px = runner['X']\n",
    "        py = runner['Y']\n",
    "        ox = np.sin(np.deg2rad(runner['Orientation']))\n",
    "        oy = np.cos(np.deg2rad(runner['Orientation']))\n",
    "        vx = runner['S'] * np.sin(np.deg2rad(runner['Dir']))\n",
    "        vy = runner['S'] * np.cos(np.deg2rad(runner['Dir']))\n",
    "        ax = runner['A'] * np.sin(np.deg2rad(runner['Dir']))\n",
    "        ay = runner['A'] * np.cos(np.deg2rad(runner['Dir']))\n",
    "        if play['PlayDirection'].iloc[0] != 'right':\n",
    "            px *= -1\n",
    "            ox *= -1\n",
    "            vx *= -1\n",
    "            ax *= -1\n",
    "        h = get_height(runner['PlayerHeight'].iloc[0])\n",
    "        w = runner['PlayerWeight'].iloc[0]\n",
    "        a = get_age(runner['PlayerBirthDate'].iloc[0])\n",
    "        runner_features = [i.values[0] for i in [px,py,ox,oy,vx,vy,ax,ay]] + [h,w,a]\n",
    "        _input.append(state_features + offense_features + defense_features + runner_features)\n",
    "        _target.append(play['Yards'].iloc[0])"
   ]
  },
  {
   "cell_type": "code",
   "execution_count": null,
   "metadata": {},
   "outputs": [],
   "source": [
    "with open('data/data.pkl', 'wb') as f:\n",
    "    pickle.dump([trn_input, val_input, tst_input, trn_target, val_target, tst_target], f)"
   ]
  },
  {
   "cell_type": "code",
   "execution_count": 5,
   "metadata": {},
   "outputs": [],
   "source": [
    "with open('data/data.pkl', 'rb') as f:\n",
    "    trn_input, val_input, tst_input, trn_target, val_target, tst_target = pickle.load(f)"
   ]
  },
  {
   "cell_type": "code",
   "execution_count": 6,
   "metadata": {},
   "outputs": [],
   "source": [
    "trn_input = np.stack(trn_input)\n",
    "trn_target = np.array(trn_target)\n",
    "val_input = np.stack(val_input)\n",
    "val_target = np.stack(val_target)"
   ]
  },
  {
   "cell_type": "code",
   "execution_count": 41,
   "metadata": {},
   "outputs": [],
   "source": [
    "pmse = np.zeros((3,2,11))\n",
    "naive_mse = np.mean((val_target - np.mean(trn_target)) * (val_target - np.mean(trn_target)))\n",
    "\n",
    "methods = [LinearRegression(), RidgeCV(), LassoCV()]\n",
    "degrees = [1,2]\n",
    "comps = [0,1,2,3,4,5,6,7,8,9,10]\n",
    "for i,method in enumerate(methods):\n",
    "    for j,degree in enumerate(degrees):\n",
    "        for k,comp in enumerate(comps):\n",
    "            model = make_pipeline(PolynomialFeatures(degree), method)\n",
    "            mse = None\n",
    "            if comp != 0:\n",
    "                pca = PCA(comp)\n",
    "                model.fit(pca.fit_transform(trn_input), trn_target)\n",
    "                mse = mean_squared_error(val_target, model.predict(pca.transform(val_input)))\n",
    "            else:\n",
    "                model.fit(trn_input, trn_target)\n",
    "                mse = mean_squared_error(val_target, model.predict(val_input))\n",
    "            pmse[i,j,k] = (naive_mse - mse) / naive_mse * 100"
   ]
  },
  {
   "cell_type": "code",
   "execution_count": 53,
   "metadata": {},
   "outputs": [
    {
     "data": {
      "image/png": "[encoded data removed]",
      "text/plain": [
       "<Figure size 576x432 with 1 Axes>"
      ]
     },
     "metadata": {
      "needs_background": "light"
     },
     "output_type": "display_data"
    }
   ],
   "source": [
    "plt.figure(figsize=(8,6))\n",
    "plt.plot(range(11),pmse[0,0,:].flatten(),'r.',\n",
    "         range(11),pmse[1,0,:].flatten(),'g.',\n",
    "         range(11),pmse[2,0,:].flatten(),'b.',\n",
    "         range(11),pmse[0,1,:].flatten(),'r+',\n",
    "         range(11),pmse[1,1,:].flatten(),'g+',\n",
    "         range(11),pmse[2,1,:].flatten(),'b+')\n",
    "rd = mlines.Line2D([], [], color='red', marker='.',markersize=15, label='1st Order Linear Regression')\n",
    "bd = mlines.Line2D([], [], color='blue', marker='.',markersize=15, label='1st Order Ridge Regression')\n",
    "gd = mlines.Line2D([], [], color='green', marker='.',markersize=15, label='1st Order Lasso Regression')\n",
    "rp = mlines.Line2D([], [], color='red', marker='+',markersize=15, label='2nd Order Linear Regression')\n",
    "bp = mlines.Line2D([], [], color='blue', marker='+',markersize=15, label='2nd Order Ridge Regression')\n",
    "gp = mlines.Line2D([], [], color='green', marker='+',markersize=15, label='2nd Order Lasso Regression')\n",
    "plt.legend(handles=[rd,bd,gd,rp,bp,gp])\n",
    "plt.xlabel('Number of Components from PCA')\n",
    "plt.xticks(np.arange(11), ('None','1','2','3','4','5','6','7','8','9','10'))\n",
    "plt.ylim(0,5)\n",
    "plt.ylabel('Percent Improvement from Always Predicting the Mean')\n",
    "plt.title('Parametric Modeling Techniques')\n",
    "plt.savefig('parametric_models.png')\n",
    "plt.show()"
   ]
  },
  {
   "cell_type": "code",
   "execution_count": 51,
   "metadata": {},
   "outputs": [
    {
     "name": "stdout",
     "output_type": "stream",
     "text": [
      "2.636026147586832\n"
     ]
    }
   ],
   "source": [
    "np.amax(pmse)\n",
    "print(pmse[0,0,0])"
   ]
  },
  {
   "cell_type": "code",
   "execution_count": 21,
   "metadata": {},
   "outputs": [
    {
     "name": "stdout",
     "output_type": "stream",
     "text": [
      "75.51237739374125\n",
      "51.44842103897452\n",
      "48.51415689741026\n",
      "47.59586915430874\n",
      "47.32071075355255\n",
      "46.776017124111114\n",
      "46.52365952677545\n",
      "46.39557384918782\n",
      "46.23870269164864\n",
      "46.256931795205496\n",
      "46.16566132272986\n",
      "46.23488280617011\n",
      "46.190223482585736\n",
      "46.103748141257164\n",
      "46.09566324935159\n",
      "46.078377073842574\n",
      "46.02098002285312\n",
      "46.018364541318896\n",
      "45.95349770872147\n",
      "45.92711635167724\n",
      "45.86277679913514\n",
      "45.86785340341123\n",
      "45.870813041350935\n",
      "45.895263702382735\n",
      "45.861055714852704\n",
      "45.85712152766378\n",
      "45.82999073722798\n",
      "45.87905739292104\n",
      "45.87619334808575\n",
      "45.895742193118316\n",
      "45.879521496441164\n",
      "45.89461239517379\n",
      "45.88261646005528\n",
      "45.85376052021008\n",
      "45.849099506954566\n",
      "45.839366244219505\n",
      "45.87136847518697\n",
      "45.8668776737195\n",
      "45.87437822335931\n",
      "45.891906513341695\n",
      "45.88933889069874\n",
      "45.90083702824913\n",
      "45.90252414457107\n",
      "45.902698971481726\n",
      "45.91538505241837\n",
      "45.918551629283456\n",
      "45.92249460661175\n",
      "45.91494564608488\n",
      "45.88917932027492\n",
      "45.86531388211776\n",
      "45.85410985706721\n",
      "45.84550763290099\n",
      "45.85380185000779\n",
      "45.85787535452504\n",
      "45.862360048289084\n",
      "45.85207536670408\n",
      "45.84267906194901\n",
      "45.81612078170161\n",
      "45.831176192459544\n",
      "45.853047078879975\n",
      "45.860511598656046\n",
      "45.862233494768184\n",
      "45.86809560935104\n",
      "45.86402553025258\n",
      "45.852174309649904\n",
      "45.84869798446244\n",
      "45.84404579337245\n",
      "45.84201950511542\n",
      "45.844979951427156\n",
      "45.842103854101914\n",
      "45.84753506799613\n",
      "45.859627779911044\n",
      "45.868777926610065\n",
      "45.86536483972952\n",
      "45.87554337426227\n",
      "45.876379176697746\n",
      "45.86397241007674\n",
      "45.869042749521505\n",
      "45.86372592896379\n",
      "45.863571797892966\n",
      "45.85343437906508\n",
      "45.852648900946015\n",
      "45.84257582845225\n",
      "45.83483688108929\n",
      "45.84308669791697\n",
      "45.83632974979603\n",
      "45.841414312129544\n",
      "45.84891439939528\n",
      "45.84974460979357\n",
      "45.85441045863254\n",
      "45.8649731849369\n",
      "45.858331281629575\n",
      "45.845128478014125\n",
      "45.84688208010981\n",
      "45.84962980511049\n",
      "45.85137695625548\n",
      "45.85327821872183\n",
      "45.8443725397306\n",
      "45.83743253843019\n",
      "45.837744236097876\n"
     ]
    }
   ],
   "source": [
    "for k in range(1,500,5):\n",
    "    model = KNeighborsRegressor(500)\n",
    "    model.fit(trn_input,trn_target)\n",
    "    print(mean_squared_error(val_target, model.predict(val_input)))"
   ]
  },
  {
   "cell_type": "code",
   "execution_count": null,
   "metadata": {},
   "outputs": [],
   "source": []
  },
  {
   "cell_type": "code",
   "execution_count": null,
   "metadata": {},
   "outputs": [],
   "source": []
  }
 ],
 "metadata": {
  "kernelspec": {
   "display_name": "Python 3",
   "language": "python",
   "name": "python3"
  },
  "language_info": {
   "codemirror_mode": {
    "name": "ipython",
    "version": 3
   },
   "file_extension": ".py",
   "mimetype": "text/x-python",
   "name": "python",
   "nbconvert_exporter": "python",
   "pygments_lexer": "ipython3",
   "version": "3.7.4"
  }
 },
 "nbformat": 4,
 "nbformat_minor": 2
}
