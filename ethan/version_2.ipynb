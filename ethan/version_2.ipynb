{
 "cells": [
  {
   "cell_type": "code",
   "execution_count": null,
   "metadata": {},
   "outputs": [],
   "source": [
    "import numpy as np\n",
    "import pandas as pd\n",
    "from keras.models import Sequential\n",
    "from keras.layers import Conv2D, MaxPooling2D, Dropout, Flatten, Dense\n",
    "from keras.callbacks import EarlyStopping\n",
    "from sklearn.model_selection import train_test_split\n",
    "from sklearn.preprocessing import StandardScaler\n",
    "from sklearn.tree import DecisionTreeRegressor\n",
    "from sklearn.linear_model import LinearRegression\n",
    "import matplotlib.pyplot as plt\n",
    "\n",
    "np.set_printoptions(threshold=np.inf)"
   ]
  },
  {
   "cell_type": "code",
   "execution_count": 2,
   "metadata": {},
   "outputs": [
    {
     "name": "stderr",
     "output_type": "stream",
     "text": [
      "C:\\Users\\Ethan\\Anaconda3\\envs\\DS\\lib\\site-packages\\IPython\\core\\interactiveshell.py:3058: DtypeWarning: Columns (47) have mixed types. Specify dtype option on import or set low_memory=False.\n",
      "  interactivity=interactivity, compiler=compiler, result=result)\n"
     ]
    }
   ],
   "source": [
    "raw_data = pd.read_csv('data/train.csv')"
   ]
  },
  {
   "cell_type": "code",
   "execution_count": 3,
   "metadata": {},
   "outputs": [
    {
     "name": "stdout",
     "output_type": "stream",
     "text": [
      "23171\n",
      "Index(['GameId', 'PlayId', 'Team', 'X', 'Y', 'S', 'A', 'Dis', 'Orientation',\n",
      "       'Dir', 'NflId', 'DisplayName', 'JerseyNumber', 'Season', 'YardLine',\n",
      "       'Quarter', 'GameClock', 'PossessionTeam', 'Down', 'Distance',\n",
      "       'FieldPosition', 'HomeScoreBeforePlay', 'VisitorScoreBeforePlay',\n",
      "       'NflIdRusher', 'OffenseFormation', 'OffensePersonnel',\n",
      "       'DefendersInTheBox', 'DefensePersonnel', 'PlayDirection', 'TimeHandoff',\n",
      "       'TimeSnap', 'Yards', 'PlayerHeight', 'PlayerWeight', 'PlayerBirthDate',\n",
      "       'PlayerCollegeName', 'Position', 'HomeTeamAbbr', 'VisitorTeamAbbr',\n",
      "       'Week', 'Stadium', 'Location', 'StadiumType', 'Turf', 'GameWeather',\n",
      "       'Temperature', 'Humidity', 'WindSpeed', 'WindDirection'],\n",
      "      dtype='object')\n"
     ]
    }
   ],
   "source": [
    "print(np.unique(raw_data['PlayId'].values).size)\n",
    "print(raw_data.columns)"
   ]
  },
  {
   "cell_type": "code",
   "execution_count": 4,
   "metadata": {},
   "outputs": [],
   "source": [
    "raw_data['Temperature'] = raw_data['Temperature'].fillna(raw_data['Temperature'].mean())\n",
    "raw_data['Humidity'] = raw_data['Humidity'].fillna(raw_data['Humidity'].mean())"
   ]
  },
  {
   "cell_type": "code",
   "execution_count": 5,
   "metadata": {},
   "outputs": [],
   "source": [
    "plays = np.unique(raw_data['PlayId'])\n",
    "plays_trn, plays_val = train_test_split(plays, train_size=0.75)\n",
    "data_trn = raw_data[raw_data['PlayId'].isin(plays_trn)]\n",
    "data_val = raw_data[raw_data['PlayId'].isin(plays_val)]"
   ]
  },
  {
   "cell_type": "code",
   "execution_count": 6,
   "metadata": {},
   "outputs": [],
   "source": [
    "def get_time(quarter, clock):\n",
    "    split_time = clock.split(':')\n",
    "    return (quarter-1)*15 + int(split_time[0]) + int(split_time[1])/60\n",
    "\n",
    "def get_distance_to_touchdown(yard_line, possession_team, field_position):\n",
    "    if possession_team != field_position:\n",
    "        return yard_line\n",
    "    else:\n",
    "        return 100 - yard_line\n",
    "\n",
    "def get_time_since_snap(time_handoff, time_snap):\n",
    "    split_handoff = time_handoff.split(':')\n",
    "    handoff_sec = int(split_handoff[1])*60 + int(split_handoff[2].split('.')[0])\n",
    "    split_snap = time_handoff.split(':')\n",
    "    snap_sec = int(split_snap[1])*60 + int(split_snap[2].split('.')[0])\n",
    "    return float(handoff_sec) - float(snap_sec)\n",
    "\n",
    "def get_height(player_height):\n",
    "    split_height = player_height.split('-')\n",
    "    return int(split_height[0])*12 + int(split_height[1])\n",
    "\n",
    "def get_age(player_birth_date):\n",
    "    return 2019 - int(player_birth_date.split('/')[2])\n",
    "\n",
    "def encode_personnel(personnel):\n",
    "    PERSONNELS = ['DB', 'DL', 'LB', 'OL', 'QB', 'RB', 'TE', 'WR']\n",
    "    encoded_personnel = [0]*len(PERSONNELS)\n",
    "    personnel = personnel.replace(' ','')\n",
    "    for i in range(0,len(personnel),4):\n",
    "        encoded_personnel[PERSONNELS.index(personnel[i+1:i+3])] += int(personnel[i])\n",
    "    return encoded_personnel\n",
    "\n",
    "def get_offense_features(formation, personnel):\n",
    "    FORMATIONS = ['SHOTGUN','SINGLEBACK','JUMBO','PISTOL','I_FORM','ACE','WILDCAT','EMPTY']\n",
    "    one_hot_formation = [int(f == formation) for f in FORMATIONS]\n",
    "    return one_hot_formation + encode_personnel(personnel)\n",
    "\n",
    "def get_defense_features(in_the_box, personnel):\n",
    "    return [in_the_box] + encode_personnel(personnel)\n",
    "\n",
    "def make_matrix(data_trn):\n",
    "    BUFFER = 60\n",
    "    offense_player_count = np.zeros((BUFFER*2+1,BUFFER*2+1))\n",
    "    defense_player_count = np.zeros((BUFFER*2+1,BUFFER*2+1))\n",
    "    offense_mean_yards = np.zeros((BUFFER*2+1,BUFFER*2+1))\n",
    "    defense_mean_yards = np.zeros((BUFFER*2+1,BUFFER*2+1))\n",
    "    for _,play in data_trn.groupby(['PlayId']):\n",
    "        offense_team = play.loc[play['NflId'] == play['NflIdRusher'],'Team'].iloc[0]\n",
    "        direction = play['PlayDirection'].iloc[0]\n",
    "        yards = play['Yards'].iloc[0]\n",
    "        ox = play.loc[play['NflId'] == play['NflIdRusher'],'X'].iloc[0]\n",
    "        oy = play.loc[play['NflId'] == play['NflIdRusher'],'Y'].iloc[0]\n",
    "        for _,player in play.iterrows():\n",
    "            x = int(round(player['X']-ox+BUFFER)) if direction == 'right' else int(round(ox-player['X']+BUFFER))\n",
    "            y = int(round(player['Y']-oy+BUFFER))\n",
    "            if player['Team'] == offense_team:\n",
    "                offense_player_count[y,x] += 1\n",
    "                offense_mean_yards[y,x] = offense_mean_yards[y,x] + (yards - offense_mean_yards[y,x]) / offense_player_count[y,x]\n",
    "            else:\n",
    "                defense_player_count[y,x] += 1\n",
    "                defense_mean_yards[y,x] = defense_mean_yards[y,x] + (yards - defense_mean_yards[y,x]) / defense_player_count[y,x]\n",
    "    return offense_player_count,defense_player_count,offense_mean_yards,defense_mean_yards\n",
    "\n",
    "def get_matrix_prediction(offense_player_count,defense_player_count,offense_mean_yards,defense_mean_yards,play):\n",
    "    BUFFER = 60\n",
    "    offense_team = play.loc[play['NflId'] == play['NflIdRusher'],'Team'].iloc[0]\n",
    "    direction = play['PlayDirection'].iloc[0]\n",
    "    yards = play['Yards'].iloc[0]\n",
    "    ox = play.loc[play['NflId'] == play['NflIdRusher'],'X'].iloc[0]\n",
    "    oy = play.loc[play['NflId'] == play['NflIdRusher'],'Y'].iloc[0]\n",
    "    predictions = []\n",
    "    weights = []\n",
    "    for _,player in play.iterrows():\n",
    "        x = int(round(player['X']-ox+BUFFER)) if direction == 'right' else int(round(ox-player['X']+BUFFER))\n",
    "        y = int(round(player['Y']-oy+BUFFER))\n",
    "        if player['Team'] == offense_team:\n",
    "            predictions.append(offense_mean_yards[y,x])\n",
    "            weights.append(offense_player_count[y,x])\n",
    "        else:\n",
    "            predictions.append(defense_mean_yards[y,x])\n",
    "            weights.append(defense_player_count[y,x])\n",
    "    return np.average(predictions, weights=weights)"
   ]
  },
  {
   "cell_type": "code",
   "execution_count": null,
   "metadata": {},
   "outputs": [],
   "source": [
    "#opc,dpc,omy,dmy = make_matrix(data_trn)\n",
    "input_trn = []\n",
    "input_val = []\n",
    "target_trn = []\n",
    "target_val = []"
   ]
  },
  {
   "cell_type": "code",
   "execution_count": 9,
   "metadata": {},
   "outputs": [
    {
     "ename": "NameError",
     "evalue": "name 'opc' is not defined",
     "output_type": "error",
     "traceback": [
      "\u001b[1;31m---------------------------------------------------------------------------\u001b[0m",
      "\u001b[1;31mNameError\u001b[0m                                 Traceback (most recent call last)",
      "\u001b[1;32m<ipython-input-9-e98feac96d41>\u001b[0m in \u001b[0;36m<module>\u001b[1;34m\u001b[0m\n\u001b[0;32m     53\u001b[0m     \u001b[0mstate_features\u001b[0m\u001b[1;33m.\u001b[0m\u001b[0mappend\u001b[0m\u001b[1;33m(\u001b[0m\u001b[0mplay\u001b[0m\u001b[1;33m[\u001b[0m\u001b[1;34m'Temperature'\u001b[0m\u001b[1;33m]\u001b[0m\u001b[1;33m.\u001b[0m\u001b[0miloc\u001b[0m\u001b[1;33m[\u001b[0m\u001b[1;36m0\u001b[0m\u001b[1;33m]\u001b[0m\u001b[1;33m)\u001b[0m\u001b[1;33m\u001b[0m\u001b[1;33m\u001b[0m\u001b[0m\n\u001b[0;32m     54\u001b[0m     \u001b[0mstate_features\u001b[0m\u001b[1;33m.\u001b[0m\u001b[0mappend\u001b[0m\u001b[1;33m(\u001b[0m\u001b[0mplay\u001b[0m\u001b[1;33m[\u001b[0m\u001b[1;34m'Humidity'\u001b[0m\u001b[1;33m]\u001b[0m\u001b[1;33m.\u001b[0m\u001b[0miloc\u001b[0m\u001b[1;33m[\u001b[0m\u001b[1;36m0\u001b[0m\u001b[1;33m]\u001b[0m\u001b[1;33m)\u001b[0m\u001b[1;33m\u001b[0m\u001b[1;33m\u001b[0m\u001b[0m\n\u001b[1;32m---> 55\u001b[1;33m     \u001b[0mstate_features\u001b[0m\u001b[1;33m.\u001b[0m\u001b[0mappend\u001b[0m\u001b[1;33m(\u001b[0m\u001b[0mget_matrix_prediction\u001b[0m\u001b[1;33m(\u001b[0m\u001b[0mopc\u001b[0m\u001b[1;33m,\u001b[0m\u001b[0mdpc\u001b[0m\u001b[1;33m,\u001b[0m\u001b[0momy\u001b[0m\u001b[1;33m,\u001b[0m\u001b[0mdmy\u001b[0m\u001b[1;33m,\u001b[0m\u001b[0mplay\u001b[0m\u001b[1;33m)\u001b[0m\u001b[1;33m)\u001b[0m\u001b[1;33m\u001b[0m\u001b[1;33m\u001b[0m\u001b[0m\n\u001b[0m\u001b[0;32m     56\u001b[0m     \u001b[0moffense_features\u001b[0m \u001b[1;33m=\u001b[0m \u001b[0mget_offense_features\u001b[0m\u001b[1;33m(\u001b[0m\u001b[0mplay\u001b[0m\u001b[1;33m[\u001b[0m\u001b[1;34m'OffenseFormation'\u001b[0m\u001b[1;33m]\u001b[0m\u001b[1;33m.\u001b[0m\u001b[0miloc\u001b[0m\u001b[1;33m[\u001b[0m\u001b[1;36m0\u001b[0m\u001b[1;33m]\u001b[0m\u001b[1;33m,\u001b[0m \u001b[0mplay\u001b[0m\u001b[1;33m[\u001b[0m\u001b[1;34m'OffensePersonnel'\u001b[0m\u001b[1;33m]\u001b[0m\u001b[1;33m.\u001b[0m\u001b[0miloc\u001b[0m\u001b[1;33m[\u001b[0m\u001b[1;36m0\u001b[0m\u001b[1;33m]\u001b[0m\u001b[1;33m)\u001b[0m\u001b[1;33m\u001b[0m\u001b[1;33m\u001b[0m\u001b[0m\n\u001b[0;32m     57\u001b[0m     \u001b[0mdefense_features\u001b[0m \u001b[1;33m=\u001b[0m \u001b[0mget_defense_features\u001b[0m\u001b[1;33m(\u001b[0m\u001b[0mplay\u001b[0m\u001b[1;33m[\u001b[0m\u001b[1;34m'DefendersInTheBox'\u001b[0m\u001b[1;33m]\u001b[0m\u001b[1;33m.\u001b[0m\u001b[0miloc\u001b[0m\u001b[1;33m[\u001b[0m\u001b[1;36m0\u001b[0m\u001b[1;33m]\u001b[0m\u001b[1;33m,\u001b[0m \u001b[0mplay\u001b[0m\u001b[1;33m[\u001b[0m\u001b[1;34m'DefensePersonnel'\u001b[0m\u001b[1;33m]\u001b[0m\u001b[1;33m.\u001b[0m\u001b[0miloc\u001b[0m\u001b[1;33m[\u001b[0m\u001b[1;36m0\u001b[0m\u001b[1;33m]\u001b[0m\u001b[1;33m)\u001b[0m\u001b[1;33m\u001b[0m\u001b[1;33m\u001b[0m\u001b[0m\n",
      "\u001b[1;31mNameError\u001b[0m: name 'opc' is not defined"
     ]
    }
   ],
   "source": [
    "for _,play in data_trn.groupby(['PlayId']):\n",
    "    state_features = []\n",
    "    state_features.append(get_distance_to_touchdown(play['YardLine'].iloc[0], play['PossessionTeam'].iloc[0], play['FieldPosition'].iloc[0]))\n",
    "    state_features.append(get_time(play['Quarter'].iloc[0],play['GameClock'].iloc[0]))\n",
    "    state_features.append(play['Down'].iloc[0])\n",
    "    state_features.append(play['Distance'].iloc[0])\n",
    "    state_features.append(get_time_since_snap(play['TimeHandoff'].iloc[0], play['TimeSnap'].iloc[0]))\n",
    "    state_features.append(play['Temperature'].iloc[0])\n",
    "    state_features.append(play['Humidity'].iloc[0])\n",
    "    #state_features.append(get_matrix_prediction(opc,dpc,omy,dmy,play))\n",
    "    offense_features = get_offense_features(play['OffenseFormation'].iloc[0], play['OffensePersonnel'].iloc[0])\n",
    "    defense_features = get_defense_features(play['DefendersInTheBox'].iloc[0], play['DefensePersonnel'].iloc[0])\n",
    "    for t,team in play.groupby(['Team']):\n",
    "        team_features = []\n",
    "        team_features.append(np.mean(team['X']))\n",
    "        team_features.append(np.mean(team['Y']))\n",
    "        team_features.append(np.mean(team['S']))\n",
    "        team_features.append(np.mean(team['A']))\n",
    "        team_features.append(np.mean(team['Dis']))\n",
    "        team_features.append(np.mean(team['Orientation']))\n",
    "        team_features.append(np.mean(team['Dir']))\n",
    "        team_features.append(np.mean(team['PlayerHeight'].apply(lambda x: get_height(x))))\n",
    "        team_features.append(np.mean(team['PlayerWeight']))\n",
    "        team_features.append(np.mean(team['PlayerBirthDate'].apply(lambda x: get_age(x))))\n",
    "        if t == 'home':\n",
    "            team_features.append(team['HomeScoreBeforePlay'].iloc[0])\n",
    "            if team['PossessionTeam'].iloc[0] == team['HomeTeamAbbr'].iloc[0]:\n",
    "                offense_features = offense_features + team_features\n",
    "            else:\n",
    "                defense_features = defense_features + team_features\n",
    "        elif t == 'away':\n",
    "            team_features.append(team['VisitorScoreBeforePlay'].iloc[0])\n",
    "            if team['PossessionTeam'].iloc[0] == team['VisitorTeamAbbr'].iloc[0]:\n",
    "                offense_features = offense_features + team_features\n",
    "            else:\n",
    "                defense_features = defense_features + team_features\n",
    "    if np.amax(np.isnan(state_features + offense_features + defense_features)) == 0:\n",
    "        input_trn.append(state_features + offense_features + defense_features)\n",
    "        target_trn.append(play['Yards'].iloc[0])"
   ]
  },
  {
   "cell_type": "code",
   "execution_count": 10,
   "metadata": {},
   "outputs": [],
   "source": [
    "for _,play in data_val.groupby(['PlayId']):\n",
    "    state_features = []\n",
    "    state_features.append(get_distance_to_touchdown(play['YardLine'].iloc[0], play['PossessionTeam'].iloc[0], play['FieldPosition'].iloc[0]))\n",
    "    state_features.append(get_time(play['Quarter'].iloc[0],play['GameClock'].iloc[0]))\n",
    "    state_features.append(play['Down'].iloc[0])\n",
    "    state_features.append(play['Distance'].iloc[0])\n",
    "    state_features.append(get_time_since_snap(play['TimeHandoff'].iloc[0], play['TimeSnap'].iloc[0]))\n",
    "    state_features.append(play['Temperature'].iloc[0])\n",
    "    state_features.append(play['Humidity'].iloc[0])\n",
    "    #state_features.append(get_matrix_prediction(opc,dpc,omy,dmy,play))\n",
    "    offense_features = get_offense_features(play['OffenseFormation'].iloc[0], play['OffensePersonnel'].iloc[0])\n",
    "    defense_features = get_defense_features(play['DefendersInTheBox'].iloc[0], play['DefensePersonnel'].iloc[0])\n",
    "    for t,team in play.groupby(['Team']):\n",
    "        team_features = []\n",
    "        team_features.append(np.mean(team['X']))\n",
    "        team_features.append(np.mean(team['Y']))\n",
    "        team_features.append(np.mean(team['S']))\n",
    "        team_features.append(np.mean(team['A']))\n",
    "        team_features.append(np.mean(team['Dis']))\n",
    "        team_features.append(np.mean(team['Orientation']))\n",
    "        team_features.append(np.mean(team['Dir']))\n",
    "        team_features.append(np.mean(team['PlayerHeight'].apply(lambda x: get_height(x))))\n",
    "        team_features.append(np.mean(team['PlayerWeight']))\n",
    "        team_features.append(np.mean(team['PlayerBirthDate'].apply(lambda x: get_age(x))))\n",
    "        if t == 'home':\n",
    "            team_features.append(team['HomeScoreBeforePlay'].iloc[0])\n",
    "            if team['PossessionTeam'].iloc[0] == team['HomeTeamAbbr'].iloc[0]:\n",
    "                offense_features = offense_features + team_features\n",
    "            else:\n",
    "                defense_features = defense_features + team_features\n",
    "        elif t == 'away':\n",
    "            team_features.append(team['VisitorScoreBeforePlay'].iloc[0])\n",
    "            if team['PossessionTeam'].iloc[0] == team['VisitorTeamAbbr'].iloc[0]:\n",
    "                offense_features = offense_features + team_features\n",
    "            else:\n",
    "                defense_features = defense_features + team_features\n",
    "    if np.amax(np.isnan(state_features + offense_features + defense_features)) == 0:\n",
    "        input_val.append(state_features + offense_features + defense_features)\n",
    "        target_val.append(play['Yards'].iloc[0])"
   ]
  },
  {
   "cell_type": "code",
   "execution_count": 11,
   "metadata": {},
   "outputs": [],
   "source": [
    "input_trn = np.stack(input_trn)\n",
    "input_val = np.stack(input_val)\n",
    "target_trn = np.stack(target_trn)\n",
    "target_val = np.stack(target_val)"
   ]
  },
  {
   "cell_type": "code",
   "execution_count": 26,
   "metadata": {},
   "outputs": [
    {
     "name": "stdout",
     "output_type": "stream",
     "text": [
      "38.728027771597894\n",
      "37.24141167567669\n",
      "38.012019552805\n"
     ]
    }
   ],
   "source": [
    "dtr = DecisionTreeRegressor(min_samples_leaf=128)\n",
    "lr = LinearRegression()\n",
    "\n",
    "dtr.fit(input_trn,target_trn)\n",
    "error = dtr.predict(input_val) - target_val\n",
    "squared_error = error * error\n",
    "mse.append(np.mean(squared_error))\n",
    "print(np.mean(squared_error))\n",
    "lr.fit(input_trn,target_trn)\n",
    "error = lr.predict(input_val) - target_val\n",
    "squared_error = error * error\n",
    "print(np.mean(squared_error))\n",
    "print(np.mean((np.mean(target_trn)-target_val)*(np.mean(target_trn)-target_val)))"
   ]
  },
  {
   "cell_type": "code",
   "execution_count": 33,
   "metadata": {},
   "outputs": [
    {
     "data": {
      "text/plain": [
       "array([ 2.18128489e-02,  6.51208766e-04, -7.23140797e-03,  3.59831736e-02,\n",
       "       -1.09134923e-12, -4.88825754e-03,  5.52208367e-04,  3.07241620e+00,\n",
       "        3.20988855e+00,  3.00210512e+00,  3.24581332e+00,  2.95303492e+00,\n",
       "        1.43598732e+00,  2.90353469e+00,  3.66787283e+00,  4.81944295e+00,\n",
       "        5.89155813e-01,  1.39789342e+00,  2.28707121e-02,  6.63403270e-01,\n",
       "        6.99885159e-01,  2.34921532e-01,  2.04198588e-01,  1.79233527e-03,\n",
       "        6.86416616e-02,  7.17237845e-01,  8.42421457e-01,  2.91411120e+00,\n",
       "        1.13953398e-04,  1.19767008e-03, -3.76218820e-02,  1.54882216e-02,\n",
       "        1.17563517e-02,  1.18163006e-02, -3.22861874e-01,  2.35597736e-01,\n",
       "        1.44711324e-01,  1.32308403e-03, -1.91258760e-03,  3.65825394e-01,\n",
       "       -9.77667562e-02, -1.05509171e-02, -6.30872734e-03, -4.07294137e-03,\n",
       "       -7.54836202e-02, -1.25464850e+00,  1.29165586e-01,  6.49597322e-01,\n",
       "       -3.86730232e-04,  2.51446809e-03,  9.01986942e-02, -3.66753730e-02,\n",
       "       -4.90731727e-02, -6.87402692e-03])"
      ]
     },
     "execution_count": 33,
     "metadata": {},
     "output_type": "execute_result"
    }
   ],
   "source": [
    "lr.coef_"
   ]
  },
  {
   "cell_type": "code",
   "execution_count": 30,
   "metadata": {},
   "outputs": [],
   "source": [
    "input_ss = StandardScaler()\n",
    "input_trn = input_ss.fit_transform(input_trn)\n",
    "input_val = input_ss.transform(input_val)\n",
    "\n",
    "model = Sequential()\n",
    "model.add(Dense(units=16, activation='relu', input_shape=(input_trn.shape[1:])))\n",
    "model.add(Dense(units=1,activation='softmax'))\n",
    "model.compile(optimizer='adam',loss='mse',metrics=['accuracy'])\n",
    "callbacks = [EarlyStopping(monitor='val_loss',patience=5,restore_best_weights=False)]"
   ]
  },
  {
   "cell_type": "code",
   "execution_count": 31,
   "metadata": {},
   "outputs": [
    {
     "name": "stdout",
     "output_type": "stream",
     "text": [
      "Train on 17376 samples, validate on 5792 samples\n",
      "Epoch 1/1000\n",
      "17376/17376 [==============================] - 2s 122us/step - loss: 53.0404 - acc: 0.1188 - val_loss: 47.8771 - val_acc: 0.1188\n",
      "Epoch 2/1000\n",
      "17376/17376 [==============================] - 1s 73us/step - loss: 53.0404 - acc: 0.1188 - val_loss: 47.8771 - val_acc: 0.1188\n",
      "Epoch 3/1000\n",
      "17376/17376 [==============================] - 1s 75us/step - loss: 53.0404 - acc: 0.1188 - val_loss: 47.8771 - val_acc: 0.1188\n",
      "Epoch 4/1000\n",
      "17376/17376 [==============================] - 1s 74us/step - loss: 53.0404 - acc: 0.1188 - val_loss: 47.8771 - val_acc: 0.1188\n",
      "Epoch 5/1000\n",
      "17376/17376 [==============================] - 1s 75us/step - loss: 53.0404 - acc: 0.1188 - val_loss: 47.8771 - val_acc: 0.1188\n",
      "Epoch 6/1000\n",
      "17376/17376 [==============================] - 1s 75us/step - loss: 53.0404 - acc: 0.1188 - val_loss: 47.8771 - val_acc: 0.1188\n"
     ]
    },
    {
     "data": {
      "text/plain": [
       "<keras.callbacks.History at 0x1718075efc8>"
      ]
     },
     "execution_count": 31,
     "metadata": {},
     "output_type": "execute_result"
    }
   ],
   "source": [
    "model.fit(x=input_trn, y=target_trn, epochs=1000, verbose=1, callbacks=callbacks, validation_data=(input_val,target_val))"
   ]
  },
  {
   "cell_type": "code",
   "execution_count": 32,
   "metadata": {},
   "outputs": [
    {
     "name": "stdout",
     "output_type": "stream",
     "text": [
      "47.87707182320442\n"
     ]
    }
   ],
   "source": [
    "prediction = model.predict(input_val)\n",
    "print(np.mean((prediction-target_val)*(prediction-target_val)))"
   ]
  },
  {
   "cell_type": "code",
   "execution_count": 37,
   "metadata": {},
   "outputs": [
    {
     "data": {
      "text/plain": [
       "Text(0, 0.5, 'Predicted Yards')"
      ]
     },
     "execution_count": 37,
     "metadata": {},
     "output_type": "execute_result"
    },
    {
     "data": {
      "image/png": "[encoded data removed]",
      "text/plain": [
       "<Figure size 432x288 with 1 Axes>"
      ]
     },
     "metadata": {
      "needs_background": "light"
     },
     "output_type": "display_data"
    }
   ],
   "source": [
    "plt.scatter(target_val,lr.predict(input_val))\n",
    "plt.xlabel('True Yards')\n",
    "plt.ylabel('Predicted Yards')"
   ]
  },
  {
   "cell_type": "code",
   "execution_count": null,
   "metadata": {},
   "outputs": [],
   "source": []
  }
 ],
 "metadata": {
  "kernelspec": {
   "display_name": "Python 3",
   "language": "python",
   "name": "python3"
  },
  "language_info": {
   "codemirror_mode": {
    "name": "ipython",
    "version": 3
   },
   "file_extension": ".py",
   "mimetype": "text/x-python",
   "name": "python",
   "nbconvert_exporter": "python",
   "pygments_lexer": "ipython3",
   "version": "3.7.4"
  }
 },
 "nbformat": 4,
 "nbformat_minor": 2
}
