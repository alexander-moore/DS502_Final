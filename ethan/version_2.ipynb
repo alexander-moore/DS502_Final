{
 "cells": [
  {
   "cell_type": "code",
   "execution_count": 1,
   "metadata": {},
   "outputs": [
    {
     "name": "stderr",
     "output_type": "stream",
     "text": [
      "Using TensorFlow backend.\n"
     ]
    }
   ],
   "source": [
    "import numpy as np\n",
    "import pandas as pd\n",
    "from keras.models import Sequential\n",
    "from keras.layers import Conv2D, MaxPooling2D, Dropout, Flatten, Dense\n",
    "from keras.callbacks import EarlyStopping\n",
    "from sklearn.model_selection import train_test_split\n",
    "from sklearn.preprocessing import StandardScaler\n",
    "\n",
    "np.set_printoptions(threshold=np.inf)"
   ]
  },
  {
   "cell_type": "code",
   "execution_count": 2,
   "metadata": {},
   "outputs": [
    {
     "name": "stderr",
     "output_type": "stream",
     "text": [
      "C:\\Users\\Ethan\\Anaconda3\\envs\\DS\\lib\\site-packages\\IPython\\core\\interactiveshell.py:3058: DtypeWarning: Columns (47) have mixed types. Specify dtype option on import or set low_memory=False.\n",
      "  interactivity=interactivity, compiler=compiler, result=result)\n"
     ]
    }
   ],
   "source": [
    "raw_data = pd.read_csv('data/train.csv')"
   ]
  },
  {
   "cell_type": "code",
   "execution_count": 3,
   "metadata": {},
   "outputs": [
    {
     "name": "stdout",
     "output_type": "stream",
     "text": [
      "23171\n",
      "Index(['GameId', 'PlayId', 'Team', 'X', 'Y', 'S', 'A', 'Dis', 'Orientation',\n",
      "       'Dir', 'NflId', 'DisplayName', 'JerseyNumber', 'Season', 'YardLine',\n",
      "       'Quarter', 'GameClock', 'PossessionTeam', 'Down', 'Distance',\n",
      "       'FieldPosition', 'HomeScoreBeforePlay', 'VisitorScoreBeforePlay',\n",
      "       'NflIdRusher', 'OffenseFormation', 'OffensePersonnel',\n",
      "       'DefendersInTheBox', 'DefensePersonnel', 'PlayDirection', 'TimeHandoff',\n",
      "       'TimeSnap', 'Yards', 'PlayerHeight', 'PlayerWeight', 'PlayerBirthDate',\n",
      "       'PlayerCollegeName', 'Position', 'HomeTeamAbbr', 'VisitorTeamAbbr',\n",
      "       'Week', 'Stadium', 'Location', 'StadiumType', 'Turf', 'GameWeather',\n",
      "       'Temperature', 'Humidity', 'WindSpeed', 'WindDirection'],\n",
      "      dtype='object')\n"
     ]
    }
   ],
   "source": [
    "print(np.unique(raw_data['PlayId'].values).size)\n",
    "print(raw_data.columns)"
   ]
  },
  {
   "cell_type": "code",
   "execution_count": 4,
   "metadata": {},
   "outputs": [],
   "source": [
    "raw_data['Temperature'] = raw_data['Temperature'].fillna(raw_data['Temperature'].mean())\n",
    "raw_data['Humidity'] = raw_data['Humidity'].fillna(raw_data['Humidity'].mean())"
   ]
  },
  {
   "cell_type": "code",
   "execution_count": 5,
   "metadata": {},
   "outputs": [],
   "source": [
    "def get_time(quarter, clock):\n",
    "    split_time = clock.split(':')\n",
    "    return (quarter-1)*15 + int(split_time[0]) + int(split_time[1])/60\n",
    "\n",
    "def get_distance_to_touchdown(yard_line, possession_team, field_position):\n",
    "    if possession_team != field_position:\n",
    "        return yard_line\n",
    "    else:\n",
    "        return 100 - yard_line\n",
    "\n",
    "def get_time_since_snap(time_handoff, time_snap):\n",
    "    split_handoff = time_handoff.split(':')\n",
    "    handoff_sec = int(split_handoff[1])*60 + int(split_handoff[2].split('.')[0])\n",
    "    split_snap = time_handoff.split(':')\n",
    "    snap_sec = int(split_snap[1])*60 + int(split_snap[2].split('.')[0])\n",
    "    return float(handoff_sec) - float(snap_sec)\n",
    "\n",
    "def get_height(player_height):\n",
    "    split_height = player_height.split('-')\n",
    "    return int(split_height[0])*12 + int(split_height[1])\n",
    "\n",
    "def get_age(player_birth_date):\n",
    "    return 2019 - int(player_birth_date.split('/')[2])\n",
    "\n",
    "def encode_personnel(personnel):\n",
    "    PERSONNELS = ['DB', 'DL', 'LB', 'OL', 'QB', 'RB', 'TE', 'WR']\n",
    "    encoded_personnel = [0]*len(PERSONNELS)\n",
    "    personnel = personnel.replace(' ','')\n",
    "    for i in range(0,len(personnel),4):\n",
    "        encoded_personnel[PERSONNELS.index(personnel[i+1:i+3])] += int(personnel[i])\n",
    "    return encoded_personnel\n",
    "\n",
    "def get_offense_features(formation, personnel):\n",
    "    FORMATIONS = ['SHOTGUN','SINGLEBACK','JUMBO','PISTOL','I_FORM','ACE','WILDCAT','EMPTY']\n",
    "    one_hot_formation = [int(f == formation) for f in FORMATIONS]\n",
    "    return one_hot_formation + encode_personnel(personnel)\n",
    "\n",
    "def get_defense_features(in_the_box, personnel):\n",
    "    return [in_the_box] + encode_personnel(personnel)"
   ]
  },
  {
   "cell_type": "code",
   "execution_count": 7,
   "metadata": {},
   "outputs": [],
   "source": [
    "nn_input = []\n",
    "nn_target = []\n",
    "for _,play in raw_data.groupby(['PlayId']):\n",
    "    state_features = []\n",
    "    state_features.append(get_distance_to_touchdown(play['YardLine'].iloc[0], play['PossessionTeam'].iloc[0], play['FieldPosition'].iloc[0]))\n",
    "    state_features.append(get_time(play['Quarter'].iloc[0],play['GameClock'].iloc[0]))\n",
    "    state_features.append(play['Down'].iloc[0])\n",
    "    state_features.append(play['Distance'].iloc[0])\n",
    "    state_features.append(get_time_since_snap(play['TimeHandoff'].iloc[0], play['TimeSnap'].iloc[0]))\n",
    "    state_features.append(play['Temperature'].iloc[0])\n",
    "    state_features.append(play['Humidity'].iloc[0])\n",
    "    offense_features = get_offense_features(play['OffenseFormation'].iloc[0], play['OffensePersonnel'].iloc[0])\n",
    "    defense_features = get_defense_features(play['DefendersInTheBox'].iloc[0], play['DefensePersonnel'].iloc[0])\n",
    "    for t,team in play.groupby(['Team']):\n",
    "        team_features = []\n",
    "        team_features.append(np.mean(team['X']))\n",
    "        team_features.append(np.mean(team['Y']))\n",
    "        team_features.append(np.mean(team['S']))\n",
    "        team_features.append(np.mean(team['A']))\n",
    "        team_features.append(np.mean(team['Dis']))\n",
    "        team_features.append(np.mean(team['Orientation']))\n",
    "        team_features.append(np.mean(team['Dir']))\n",
    "        team_features.append(np.mean(team['PlayerHeight'].apply(lambda x: get_height(x))))\n",
    "        team_features.append(np.mean(team['PlayerWeight']))\n",
    "        team_features.append(np.mean(team['PlayerBirthDate'].apply(lambda x: get_age(x))))\n",
    "        if t == 'home':\n",
    "            team_features.append(team['HomeScoreBeforePlay'].iloc[0])\n",
    "            if team['PossessionTeam'].iloc[0] == team['HomeTeamAbbr'].iloc[0]:\n",
    "                offense_features = offense_features + team_features\n",
    "            else:\n",
    "                defense_features = defense_features + team_features\n",
    "        elif t == 'away':\n",
    "            team_features.append(team['VisitorScoreBeforePlay'].iloc[0])\n",
    "            if team['PossessionTeam'].iloc[0] == team['VisitorTeamAbbr'].iloc[0]:\n",
    "                offense_features = offense_features + team_features\n",
    "            else:\n",
    "                defense_features = defense_features + team_features\n",
    "    if np.amax(np.isnan(state_features + offense_features + defense_features)) == 0:\n",
    "        nn_input.append(state_features + offense_features + defense_features)\n",
    "        nn_target.append(play['Yards'].iloc[0])"
   ]
  },
  {
   "cell_type": "code",
   "execution_count": 8,
   "metadata": {},
   "outputs": [],
   "source": [
    "nn_input = np.stack(nn_input)\n",
    "nn_target = np.stack(nn_target)"
   ]
  },
  {
   "cell_type": "code",
   "execution_count": 16,
   "metadata": {},
   "outputs": [],
   "source": [
    "input_trn, input_val, target_trn, target_val = train_test_split(nn_input, nn_target, train_size=0.75)\n",
    "input_ss = StandardScaler()\n",
    "input_trn = input_ss.fit_transform(input_trn)\n",
    "input_val = input_ss.transform(input_val)\n",
    "\n",
    "model = Sequential()\n",
    "model.add(Dense(units=1024, activation='relu', input_shape=(input_trn.shape[1:])))\n",
    "model.add(Dense(units=1024, activation='relu'))\n",
    "model.add(Dense(units=1024, activation='relu'))\n",
    "model.add(Dense(units=1024, activation='relu'))\n",
    "model.add(Dense(units=1024, activation='relu'))\n",
    "model.add(Dense(units=1024, activation='relu'))\n",
    "model.add(Dense(units=2,activation='softmax'))\n",
    "model.compile(optimizer='adam',loss='mse',metrics=['accuracy'])\n",
    "callbacks = [EarlyStopping(monitor='val_loss',patience=5,restore_best_weights=False)]"
   ]
  },
  {
   "cell_type": "code",
   "execution_count": 15,
   "metadata": {},
   "outputs": [
    {
     "name": "stdout",
     "output_type": "stream",
     "text": [
      "Train on 17376 samples, validate on 5792 samples\n",
      "Epoch 1/1000\n",
      "17376/17376 [==============================] - 4s 228us/step - loss: 0.1618 - acc: 0.7946 - val_loss: 0.1601 - val_acc: 0.7939\n",
      "Epoch 2/1000\n",
      "17376/17376 [==============================] - 2s 138us/step - loss: 0.1534 - acc: 0.7989 - val_loss: 0.1603 - val_acc: 0.7939\n",
      "Epoch 3/1000\n",
      "17376/17376 [==============================] - 3s 151us/step - loss: 0.1513 - acc: 0.7991 - val_loss: 0.1600 - val_acc: 0.7897\n",
      "Epoch 4/1000\n",
      "17376/17376 [==============================] - 3s 199us/step - loss: 0.1488 - acc: 0.8018 - val_loss: 0.1616 - val_acc: 0.7923\n",
      "Epoch 5/1000\n",
      "17376/17376 [==============================] - 3s 164us/step - loss: 0.1473 - acc: 0.8044 - val_loss: 0.1595 - val_acc: 0.7892\n",
      "Epoch 6/1000\n",
      "17376/17376 [==============================] - 3s 172us/step - loss: 0.1448 - acc: 0.8087 - val_loss: 0.1617 - val_acc: 0.7859\n",
      "Epoch 7/1000\n",
      "17376/17376 [==============================] - 3s 161us/step - loss: 0.1425 - acc: 0.8099 - val_loss: 0.1636 - val_acc: 0.7821\n",
      "Epoch 8/1000\n",
      "17376/17376 [==============================] - 3s 163us/step - loss: 0.1397 - acc: 0.8145 - val_loss: 0.1657 - val_acc: 0.7797\n",
      "Epoch 9/1000\n",
      "17376/17376 [==============================] - 3s 151us/step - loss: 0.1376 - acc: 0.8180 - val_loss: 0.1676 - val_acc: 0.7721\n",
      "Epoch 10/1000\n",
      "17376/17376 [==============================] - 3s 197us/step - loss: 0.1346 - acc: 0.8215 - val_loss: 0.1659 - val_acc: 0.7864\n"
     ]
    },
    {
     "data": {
      "text/plain": [
       "<keras.callbacks.History at 0x1ef41a30488>"
      ]
     },
     "execution_count": 15,
     "metadata": {},
     "output_type": "execute_result"
    }
   ],
   "source": [
    "model.fit(x=input_trn, y=target_trn, epochs=1000, verbose=1, callbacks=callbacks, validation_data=(input_val,target_val))"
   ]
  },
  {
   "cell_type": "code",
   "execution_count": null,
   "metadata": {},
   "outputs": [],
   "source": [
    "model.evaluate(input_val, target_val)"
   ]
  }
 ],
 "metadata": {
  "kernelspec": {
   "display_name": "Python 3",
   "language": "python",
   "name": "python3"
  },
  "language_info": {
   "codemirror_mode": {
    "name": "ipython",
    "version": 3
   },
   "file_extension": ".py",
   "mimetype": "text/x-python",
   "name": "python",
   "nbconvert_exporter": "python",
   "pygments_lexer": "ipython3",
   "version": "3.7.4"
  }
 },
 "nbformat": 4,
 "nbformat_minor": 2
}
