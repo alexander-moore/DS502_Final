{
 "cells": [
  {
   "cell_type": "code",
   "execution_count": 6,
   "metadata": {},
   "outputs": [],
   "source": [
    "import numpy as np\n",
    "import pandas as pd\n",
    "from keras.models import Sequential\n",
    "from keras.layers import Conv2D, MaxPooling2D, Dropout, Flatten, Dense\n",
    "from keras.callbacks import EarlyStopping\n",
    "from sklearn.model_selection import train_test_split\n",
    "from sklearn.preprocessing import StandardScaler\n",
    "from sklearn.neighbors import NearestNeighbors\n",
    "from matplotlib import pyplot as plt\n",
    "import seaborn as sns\n",
    "\n",
    "np.set_printoptions(threshold=np.inf)"
   ]
  },
  {
   "cell_type": "code",
   "execution_count": 7,
   "metadata": {},
   "outputs": [],
   "source": [
    "raw_data = pd.read_csv('data/train.csv')"
   ]
  },
  {
   "cell_type": "code",
   "execution_count": 8,
   "metadata": {},
   "outputs": [
    {
     "data": {
      "text/plain": [
       "Index(['GameId', 'PlayId', 'Team', 'X', 'Y', 'S', 'A', 'Dis', 'Orientation',\n",
       "       'Dir', 'NflId', 'DisplayName', 'JerseyNumber', 'Season', 'YardLine',\n",
       "       'Quarter', 'GameClock', 'PossessionTeam', 'Down', 'Distance',\n",
       "       'FieldPosition', 'HomeScoreBeforePlay', 'VisitorScoreBeforePlay',\n",
       "       'NflIdRusher', 'OffenseFormation', 'OffensePersonnel',\n",
       "       'DefendersInTheBox', 'DefensePersonnel', 'PlayDirection', 'TimeHandoff',\n",
       "       'TimeSnap', 'Yards', 'PlayerHeight', 'PlayerWeight', 'PlayerBirthDate',\n",
       "       'PlayerCollegeName', 'Position', 'HomeTeamAbbr', 'VisitorTeamAbbr',\n",
       "       'Week', 'Stadium', 'Location', 'StadiumType', 'Turf', 'GameWeather',\n",
       "       'Temperature', 'Humidity', 'WindSpeed', 'WindDirection'],\n",
       "      dtype='object')"
      ]
     },
     "execution_count": 8,
     "metadata": {},
     "output_type": "execute_result"
    }
   ],
   "source": [
    "raw_data.columns"
   ]
  },
  {
   "cell_type": "code",
   "execution_count": 9,
   "metadata": {},
   "outputs": [],
   "source": [
    "plays = np.unique(raw_data['PlayId'])\n",
    "plays_trn, plays_tst = train_test_split(plays, train_size=0.75)\n",
    "data_trn = raw_data[raw_data['PlayId'].isin(plays_trn)]\n",
    "data_tst = raw_data[raw_data['PlayId'].isin(plays_tst)]"
   ]
  },
  {
   "cell_type": "code",
   "execution_count": 10,
   "metadata": {},
   "outputs": [],
   "source": [
    "offense_players = []\n",
    "offense_yards = []\n",
    "defense_players = []\n",
    "defense_yards = []\n",
    "for _,play in data_trn.groupby(['PlayId']):\n",
    "    offense_team = play.loc[play['NflId'] == play['NflIdRusher'],'Team'].iloc[0]\n",
    "    direction = play['PlayDirection'].iloc[0]\n",
    "    yards = play['Yards'].iloc[0]\n",
    "    runner = play.loc[play['NflId'] == play['NflIdRusher']]\n",
    "    opx = runner['X']\n",
    "    opy = runner['Y']\n",
    "    oox = np.sin(np.deg2rad(runner['Orientation']))\n",
    "    ooy = np.cos(np.deg2rad(runner['Orientation']))\n",
    "    ovx = runner['S'] * np.sin(np.deg2rad(runner['Dir']))\n",
    "    ovy = runner['S'] * np.cos(np.deg2rad(runner['Dir']))\n",
    "    oax = runner['A'] * np.sin(np.deg2rad(runner['Dir']))\n",
    "    oay = runner['A'] * np.cos(np.deg2rad(runner['Dir']))\n",
    "    for _,player in play.iterrows():\n",
    "        px = player['X']-opx\n",
    "        py = player['Y']-opy\n",
    "        ox = np.sin(np.deg2rad(player['Orientation']))-oox\n",
    "        oy = np.cos(np.deg2rad(player['Orientation']))-ooy\n",
    "        vx = player['S']*np.sin(np.deg2rad(player['Dir']))-ovx\n",
    "        vy = player['S']*np.cos(np.deg2rad(player['Dir']))-ovy\n",
    "        ax = player['A']*np.sin(np.deg2rad(player['Dir']))-oax\n",
    "        ay = player['A']*np.cos(np.deg2rad(player['Dir']))-oay\n",
    "        if direction != 'right':\n",
    "            px *= -1\n",
    "            ox *= -1\n",
    "            vx *= -1\n",
    "            ax *= -1\n",
    "        pos = [i.values[0] for i in [px,py,ox,oy,vx,vy,ax,ay]]\n",
    "        if ~np.isnan(pos).any():\n",
    "            if player['Team'] == offense_team:\n",
    "                offense_players.append(pos)\n",
    "                offense_yards.append(yards)\n",
    "            else:\n",
    "                defense_players.append(pos)\n",
    "                defense_yards.append(yards)"
   ]
  },
  {
   "cell_type": "code",
   "execution_count": 11,
   "metadata": {},
   "outputs": [
    {
     "ename": "NameError",
     "evalue": "name 'r' is not defined",
     "output_type": "error",
     "traceback": [
      "\u001b[1;31m---------------------------------------------------------------------------\u001b[0m",
      "\u001b[1;31mNameError\u001b[0m                                 Traceback (most recent call last)",
      "\u001b[1;32m<ipython-input-11-ff665feff526>\u001b[0m in \u001b[0;36m<module>\u001b[1;34m\u001b[0m\n\u001b[0;32m     39\u001b[0m             \u001b[0mpos\u001b[0m \u001b[1;33m=\u001b[0m \u001b[0mnp\u001b[0m\u001b[1;33m.\u001b[0m\u001b[0marray\u001b[0m\u001b[1;33m(\u001b[0m\u001b[1;33m[\u001b[0m\u001b[0mi\u001b[0m\u001b[1;33m.\u001b[0m\u001b[0mvalues\u001b[0m\u001b[1;33m[\u001b[0m\u001b[1;36m0\u001b[0m\u001b[1;33m]\u001b[0m \u001b[1;32mfor\u001b[0m \u001b[0mi\u001b[0m \u001b[1;32min\u001b[0m \u001b[1;33m[\u001b[0m\u001b[0mpx\u001b[0m\u001b[1;33m,\u001b[0m\u001b[0mpy\u001b[0m\u001b[1;33m,\u001b[0m\u001b[0mox\u001b[0m\u001b[1;33m,\u001b[0m\u001b[0moy\u001b[0m\u001b[1;33m,\u001b[0m\u001b[0mvx\u001b[0m\u001b[1;33m,\u001b[0m\u001b[0mvy\u001b[0m\u001b[1;33m,\u001b[0m\u001b[0max\u001b[0m\u001b[1;33m,\u001b[0m\u001b[0may\u001b[0m\u001b[1;33m]\u001b[0m\u001b[1;33m]\u001b[0m\u001b[1;33m,\u001b[0m\u001b[0mndmin\u001b[0m\u001b[1;33m=\u001b[0m\u001b[1;36m2\u001b[0m\u001b[1;33m)\u001b[0m\u001b[1;33m\u001b[0m\u001b[1;33m\u001b[0m\u001b[0m\n\u001b[0;32m     40\u001b[0m         \u001b[1;32mif\u001b[0m \u001b[0mplayer\u001b[0m\u001b[1;33m[\u001b[0m\u001b[1;34m'Team'\u001b[0m\u001b[1;33m]\u001b[0m \u001b[1;33m==\u001b[0m \u001b[0moffense_team\u001b[0m\u001b[1;33m:\u001b[0m\u001b[1;33m\u001b[0m\u001b[1;33m\u001b[0m\u001b[0m\n\u001b[1;32m---> 41\u001b[1;33m             \u001b[0mdis\u001b[0m\u001b[1;33m,\u001b[0m\u001b[0mind\u001b[0m \u001b[1;33m=\u001b[0m \u001b[0moffense_nn\u001b[0m\u001b[1;33m.\u001b[0m\u001b[0mradius_neighbors\u001b[0m\u001b[1;33m(\u001b[0m\u001b[0mpos\u001b[0m\u001b[1;33m,\u001b[0m\u001b[0mradius\u001b[0m\u001b[1;33m=\u001b[0m\u001b[0mr\u001b[0m\u001b[1;33m)\u001b[0m\u001b[1;33m\u001b[0m\u001b[1;33m\u001b[0m\u001b[0m\n\u001b[0m\u001b[0;32m     42\u001b[0m             \u001b[0mind\u001b[0m \u001b[1;33m=\u001b[0m \u001b[1;33m[\u001b[0m\u001b[0mint\u001b[0m\u001b[1;33m(\u001b[0m\u001b[0mi\u001b[0m\u001b[1;33m)\u001b[0m \u001b[1;32mfor\u001b[0m \u001b[0mi\u001b[0m \u001b[1;32min\u001b[0m \u001b[0mind\u001b[0m\u001b[1;33m[\u001b[0m\u001b[1;36m0\u001b[0m\u001b[1;33m]\u001b[0m\u001b[1;33m]\u001b[0m\u001b[1;33m\u001b[0m\u001b[1;33m\u001b[0m\u001b[0m\n\u001b[0;32m     43\u001b[0m             \u001b[0mpredictions\u001b[0m\u001b[1;33m.\u001b[0m\u001b[0mappend\u001b[0m\u001b[1;33m(\u001b[0m\u001b[0mnp\u001b[0m\u001b[1;33m.\u001b[0m\u001b[0mmean\u001b[0m\u001b[1;33m(\u001b[0m\u001b[0moffense_yards\u001b[0m\u001b[1;33m[\u001b[0m\u001b[0mind\u001b[0m\u001b[1;33m[\u001b[0m\u001b[1;36m0\u001b[0m\u001b[1;33m]\u001b[0m\u001b[1;33m]\u001b[0m\u001b[1;33m)\u001b[0m\u001b[1;33m)\u001b[0m\u001b[1;33m\u001b[0m\u001b[1;33m\u001b[0m\u001b[0m\n",
      "\u001b[1;31mNameError\u001b[0m: name 'r' is not defined"
     ]
    }
   ],
   "source": [
    "offense_nn = NearestNeighbors(metric='euclidean')\n",
    "offense_nn.fit(np.stack(offense_players))\n",
    "defense_nn = NearestNeighbors(metric='euclidean')\n",
    "defense_nn.fit(np.stack(defense_players))\n",
    "K = [20]\n",
    "#R = [5,10,15,20,25,30,35,40,45,50]\n",
    "mse = []\n",
    "for k in K:\n",
    "    se = []\n",
    "    for _,play in data_tst.groupby(['PlayId']):\n",
    "        offense_team = play.loc[play['NflId'] == play['NflIdRusher'],'Team'].iloc[0]\n",
    "        direction = play['PlayDirection'].iloc[0]\n",
    "        yards = play['Yards'].iloc[0]\n",
    "        runner = play.loc[play['NflId'] == play['NflIdRusher']]\n",
    "        opx = runner['X']\n",
    "        opy = runner['Y']\n",
    "        oox = np.sin(np.deg2rad(runner['Orientation']))\n",
    "        ooy = np.cos(np.deg2rad(runner['Orientation']))\n",
    "        ovx = runner['S'] * np.sin(np.deg2rad(runner['Dir']))\n",
    "        ovy = runner['S'] * np.cos(np.deg2rad(runner['Dir']))\n",
    "        oax = runner['A'] * np.sin(np.deg2rad(runner['Dir']))\n",
    "        oay = runner['A'] * np.cos(np.deg2rad(runner['Dir']))\n",
    "        predictions = []\n",
    "        weights = []\n",
    "        for _,player in play.iterrows():\n",
    "            px = player['X']-opx\n",
    "            py = player['Y']-opy\n",
    "            ox = np.sin(np.deg2rad(player['Orientation']))-oox\n",
    "            oy = np.cos(np.deg2rad(player['Orientation']))-ooy\n",
    "            vx = player['S']*np.sin(np.deg2rad(player['Dir']))-ovx\n",
    "            vy = player['S']*np.cos(np.deg2rad(player['Dir']))-ovy\n",
    "            ax = player['A']*np.sin(np.deg2rad(player['Dir']))-oax\n",
    "            ay = player['A']*np.cos(np.deg2rad(player['Dir']))-oay\n",
    "            if direction != 'right':\n",
    "                px *= -1\n",
    "                ox *= -1\n",
    "                vx *= -1\n",
    "                ax *= -1\n",
    "            pos = np.array([i.values[0] for i in [px,py,ox,oy,vx,vy,ax,ay]],ndmin=2)\n",
    "        if player['Team'] == offense_team:\n",
    "            dis,ind = offense_nn.kneighbors(pos,n_neighbors=k)\n",
    "            ind = [int(i) for i in ind[0]]\n",
    "            predictions.append(np.mean(offense_yards[ind[0]]))\n",
    "            weights.append(1/(1+np.mean(dis)))\n",
    "        else:\n",
    "            dis,ind = defense_nn.kneighbors(pos,n_neighbors=k)\n",
    "            ind = [int(i) for i in ind[0]]\n",
    "            predictions.append(np.mean(defense_yards[ind[0]]))\n",
    "            weights.append(1/(1+np.mean(dis)))\n",
    "        prediction = np.average(predictions,weights=weights)\n",
    "        se.append((prediction-yards)*(prediction-yards))\n",
    "    mse.append(np.mean(se))"
   ]
  },
  {
   "cell_type": "code",
   "execution_count": null,
   "metadata": {},
   "outputs": [],
   "source": [
    "plt.figure(figsize=(25,20))\n",
    "plt.plot(K,mse)\n",
    "plt.title('KNN Vs. K')\n",
    "plt.xlabel('K')\n",
    "plt.ylabel('MSE')\n",
    "plt.show"
   ]
  },
  {
   "cell_type": "code",
   "execution_count": null,
   "metadata": {},
   "outputs": [],
   "source": []
  },
  {
   "cell_type": "code",
   "execution_count": null,
   "metadata": {},
   "outputs": [],
   "source": []
  },
  {
   "cell_type": "code",
   "execution_count": null,
   "metadata": {},
   "outputs": [],
   "source": []
  }
 ],
 "metadata": {
  "kernelspec": {
   "display_name": "Python 3",
   "language": "python",
   "name": "python3"
  },
  "language_info": {
   "codemirror_mode": {
    "name": "ipython",
    "version": 3
   },
   "file_extension": ".py",
   "mimetype": "text/x-python",
   "name": "python",
   "nbconvert_exporter": "python",
   "pygments_lexer": "ipython3",
   "version": "3.7.4"
  }
 },
 "nbformat": 4,
 "nbformat_minor": 2
}
