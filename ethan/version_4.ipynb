{
 "cells": [
  {
   "cell_type": "code",
   "execution_count": 1,
   "metadata": {},
   "outputs": [
    {
     "name": "stderr",
     "output_type": "stream",
     "text": [
      "Using TensorFlow backend.\n"
     ]
    }
   ],
   "source": [
    "import numpy as np\n",
    "import pandas as pd\n",
    "from keras.models import Sequential\n",
    "from keras.layers import Conv2D, MaxPooling2D, Dropout, Flatten, Dense\n",
    "from keras.callbacks import EarlyStopping\n",
    "from sklearn.model_selection import train_test_split\n",
    "from sklearn.preprocessing import StandardScaler\n",
    "from sklearn.neighbors import NearestNeighbors\n",
    "from matplotlib import pyplot as plt\n",
    "import seaborn as sns\n",
    "\n",
    "\n",
    "np.set_printoptions(threshold=np.inf)"
   ]
  },
  {
   "cell_type": "code",
   "execution_count": 2,
   "metadata": {},
   "outputs": [
    {
     "name": "stderr",
     "output_type": "stream",
     "text": [
      "C:\\Users\\Ethan\\Anaconda3\\lib\\site-packages\\IPython\\core\\interactiveshell.py:3057: DtypeWarning: Columns (47) have mixed types. Specify dtype option on import or set low_memory=False.\n",
      "  interactivity=interactivity, compiler=compiler, result=result)\n"
     ]
    }
   ],
   "source": [
    "raw_data = pd.read_csv('data/train.csv')"
   ]
  },
  {
   "cell_type": "code",
   "execution_count": 3,
   "metadata": {},
   "outputs": [
    {
     "data": {
      "text/plain": [
       "Index(['GameId', 'PlayId', 'Team', 'X', 'Y', 'S', 'A', 'Dis', 'Orientation',\n",
       "       'Dir', 'NflId', 'DisplayName', 'JerseyNumber', 'Season', 'YardLine',\n",
       "       'Quarter', 'GameClock', 'PossessionTeam', 'Down', 'Distance',\n",
       "       'FieldPosition', 'HomeScoreBeforePlay', 'VisitorScoreBeforePlay',\n",
       "       'NflIdRusher', 'OffenseFormation', 'OffensePersonnel',\n",
       "       'DefendersInTheBox', 'DefensePersonnel', 'PlayDirection', 'TimeHandoff',\n",
       "       'TimeSnap', 'Yards', 'PlayerHeight', 'PlayerWeight', 'PlayerBirthDate',\n",
       "       'PlayerCollegeName', 'Position', 'HomeTeamAbbr', 'VisitorTeamAbbr',\n",
       "       'Week', 'Stadium', 'Location', 'StadiumType', 'Turf', 'GameWeather',\n",
       "       'Temperature', 'Humidity', 'WindSpeed', 'WindDirection'],\n",
       "      dtype='object')"
      ]
     },
     "execution_count": 3,
     "metadata": {},
     "output_type": "execute_result"
    }
   ],
   "source": [
    "raw_data.columns"
   ]
  },
  {
   "cell_type": "code",
   "execution_count": 4,
   "metadata": {},
   "outputs": [],
   "source": [
    "plays = np.unique(raw_data['PlayId'])\n",
    "plays_trn, plays_tst = train_test_split(plays, train_size=0.75)\n",
    "data_trn = raw_data[raw_data['PlayId'].isin(plays_trn)]\n",
    "data_tst = raw_data[raw_data['PlayId'].isin(plays_tst)]"
   ]
  },
  {
   "cell_type": "code",
   "execution_count": null,
   "metadata": {},
   "outputs": [],
   "source": [
    "offense_players = []\n",
    "offense_yards = []\n",
    "defense_players = []\n",
    "defense_yards = []\n",
    "for _,play in data_trn.groupby(['PlayId']):\n",
    "    offense_team = play.loc[play['NflId'] == play['NflIdRusher'],'Team'].iloc[0]\n",
    "    direction = play['PlayDirection'].iloc[0]\n",
    "    yards = play['Yards'].iloc[0]\n",
    "    runner = play.loc[play['NflId'] == play['NflIdRusher']]\n",
    "    opx = runner['X']\n",
    "    opy = runner['Y']\n",
    "    oox = np.sin(np.deg2rad(runner['Orientation']))\n",
    "    ooy = np.cos(np.deg2rad(runner['Orientation']))\n",
    "    ovx = runner['S'] * np.sin(np.deg2rad(runner['Dir']))\n",
    "    ovy = runner['S'] * np.cos(np.deg2rad(runner['Dir']))\n",
    "    oax = runner['A'] * np.sin(np.deg2rad(runner['Dir']))\n",
    "    oay = runner['A'] * np.cos(np.deg2rad(runner['Dir']))\n",
    "    for _,player in play.iterrows():\n",
    "        px = player['X']-opx if direction == 'right' else opx-player['X']\n",
    "        py = player['Y']-opy\n",
    "        ox = np.sin(np.deg2rad(player['Orientation']))-oox if direction == 'right' else oox-np.sin(np.deg2rad(player['Orientation']))\n",
    "        oy = np.cos(np.deg2rad(player['Orientation']))-ooy\n",
    "        vx = player['S']*np.sin(np.deg2rad(player['Dir']))-ovx if direction == 'right' else ovx-player['S']*np.sin(np.deg2rad(player['Dir']))\n",
    "        vy = player['S']*np.cos(np.deg2rad(player['Dir']))-ovy\n",
    "        ax = player['A']*np.sin(np.deg2rad(player['Dir']))-oax if direction == 'right' else oax-player['A']*np.sin(np.deg2rad(player['Dir']))\n",
    "        ay = player['A']*np.cos(np.deg2rad(player['Dir']))-oay\n",
    "        pos = np.array([i.values[0] for i in [px,py,ox,oy,vx,vy,ax,ay]],ndmin=2)\n",
    "        if player['Team'] == offense_team:\n",
    "            offense_players.append(pos)\n",
    "            offense_yards.append(yards)\n",
    "        else:\n",
    "            defense_players.append(pos)\n",
    "            defense_yards.append(yards)"
   ]
  },
  {
   "cell_type": "code",
   "execution_count": null,
   "metadata": {},
   "outputs": [],
   "source": [
    "offense_nn = NearestNeighbors(metric='euclidean')\n",
    "offense_nn.fit(offense_players)\n",
    "defense_nn = NearestNeighbors(metric='euclidean')\n",
    "defense_nn.fit(defense_players)\n",
    "K = [1,10,20,30,40,50,60,70,80,90,100]\n",
    "mse = []\n",
    "for k in K:\n",
    "    se = []\n",
    "    for _,play in data_tst.groupby(['PlayId']):\n",
    "        offense_team = play.loc[play['NflId'] == play['NflIdRusher'],'Team'].iloc[0]\n",
    "        direction = play['PlayDirection'].iloc[0]\n",
    "        yards = play['Yards'].iloc[0]\n",
    "        runner = play.loc[play['NflId'] == play['NflIdRusher']]\n",
    "        opx = runner['X']\n",
    "        opy = runner['Y']\n",
    "        oox = np.sin(np.deg2rad(runner['Orientation']))\n",
    "        ooy = np.cos(np.deg2rad(runner['Orientation']))\n",
    "        ovx = runner['S'] * np.sin(np.deg2rad(runner['Dir']))\n",
    "        ovy = runner['S'] * np.cos(np.deg2rad(runner['Dir']))\n",
    "        oax = runner['A'] * np.sin(np.deg2rad(runner['Dir']))\n",
    "        oay = runner['A'] * np.cos(np.deg2rad(runner['Dir']))\n",
    "        predictions = []\n",
    "        weights = []\n",
    "        for _,player in play.iterrows():\n",
    "            px = player['X']-opx if direction == 'right' else opx-player['X']\n",
    "            py = player['Y']-opy\n",
    "            ox = np.sin(np.deg2rad(player['Orientation']))-oox if direction == 'right' else oox-np.sin(np.deg2rad(player['Orientation']))\n",
    "            oy = np.cos(np.deg2rad(player['Orientation']))-ooy\n",
    "            vx = player['S']*np.sin(np.deg2rad(player['Dir']))-ovx if direction == 'right' else ovx-player['S']*np.sin(np.deg2rad(player['Dir']))\n",
    "            vy = player['S']*np.cos(np.deg2rad(player['Dir']))-ovy\n",
    "            ax = player['A']*np.sin(np.deg2rad(player['Dir']))-oax if direction == 'right' else oax-player['A']*np.sin(np.deg2rad(player['Dir']))\n",
    "            ay = player['A']*np.cos(np.deg2rad(player['Dir']))-oay\n",
    "            pos = np.array([i.values[0] for i in [px,py,ox,oy,vx,vy,ax,ay]],ndmin=2)\n",
    "        if player['Team'] == offense_team:\n",
    "            dis,ind = offense_nn.kneighbors(pos,n_neighbors=15)\n",
    "            dis,ind = offense_nn.radius_neighbors(pos,radius=3)\n",
    "            ind = [int(i) for i in ind[0]]\n",
    "            predictions.append(np.mean(offense_yards[ind[0]]))\n",
    "            weights.append(1/(1+np.mean(dis)))\n",
    "        else:\n",
    "            dis,ind = defense_nn.kneighbors(pos,n_neighbors=15)\n",
    "            dis,ind = defense_nn.radius_neighbors(pos,radius=3)\n",
    "            ind = [int(i) for i in ind[0]]\n",
    "            predictions.append(np.mean(defense_yards[ind[0]]))\n",
    "            weights.append(1/(1+np.mean(dis)))\n",
    "        prediction = np.average(predictions,weights=weights)\n",
    "        se.append((prediction-yards)*(prediction-yards))\n",
    "    mse.append(np.mean(se))"
   ]
  },
  {
   "cell_type": "code",
   "execution_count": null,
   "metadata": {},
   "outputs": [],
   "source": [
    "plt.figure(figsize=(25,20))\n",
    "plt.plot(K,mse)\n",
    "plt.title('KNN Weighted Average Vs. K')\n",
    "plt.xlabel('K')\n",
    "plt.ylable('MSE')\n",
    "plt.show"
   ]
  },
  {
   "cell_type": "code",
   "execution_count": null,
   "metadata": {},
   "outputs": [],
   "source": []
  },
  {
   "cell_type": "code",
   "execution_count": null,
   "metadata": {},
   "outputs": [],
   "source": []
  },
  {
   "cell_type": "code",
   "execution_count": null,
   "metadata": {},
   "outputs": [],
   "source": []
  }
 ],
 "metadata": {
  "kernelspec": {
   "display_name": "Python 3",
   "language": "python",
   "name": "python3"
  },
  "language_info": {
   "codemirror_mode": {
    "name": "ipython",
    "version": 3
   },
   "file_extension": ".py",
   "mimetype": "text/x-python",
   "name": "python",
   "nbconvert_exporter": "python",
   "pygments_lexer": "ipython3",
   "version": "3.7.3"
  }
 },
 "nbformat": 4,
 "nbformat_minor": 2
}
