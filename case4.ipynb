{
 "cells": [
  {
   "cell_type": "markdown",
   "metadata": {},
   "source": [
    "# Case Study 4 : Data Science in Any Data You Like"
   ]
  },
  {
   "cell_type": "markdown",
   "metadata": {},
   "source": [
    "**Required Readings:** \n",
    "* In this case study, you could use any data as you like.\n",
    "* [TED Talks](https://www.ted.com/talks) for examples of 7 minutes talks.\n",
    "\n",
    "\n",
    "** NOTE **\n",
    "* Please don't forget to save the notebook frequently when working in Jupyter Notebook, otherwise the changes you made can be lost.\n",
    "\n",
    "*----------------------"
   ]
  },
  {
   "cell_type": "markdown",
   "metadata": {},
   "source": [
    "# Problem: pick a data science problem that you plan to solve using your Data\n",
    "* The problem should be important and interesting, which has a potential impact in some area.\n",
    "* The problem should be solvable using the data and data science solutions.\n",
    "\n",
    "Please briefly describe in the following cell: what problem are you trying to solve? why this problem is important and interesting?"
   ]
  },
  {
   "cell_type": "code",
   "execution_count": null,
   "metadata": {
    "collapsed": true
   },
   "outputs": [],
   "source": [
    "We are trying to predict how many yards a runner will run durring a play in a game of american football.\n",
    "This is an interesting problem because if we can correlate succesful plays with different features of teams,\n",
    "plays, players, and the environment, coaches and analysts can use that information to improve their game plans."
   ]
  },
  {
   "cell_type": "markdown",
   "metadata": {},
   "source": [
    "# Data Collection/Processing: "
   ]
  },
  {
   "cell_type": "code",
   "execution_count": null,
   "metadata": {
    "collapsed": true
   },
   "outputs": [],
   "source": [
    "import numpy as np\n",
    "import pandas as pd\n",
    "from keras.models import Sequential\n",
    "from keras.layers import Conv2D, MaxPooling2D, Dropout, Flatten, Dense\n",
    "from keras.callbacks import EarlyStopping\n",
    "from sklearn.model_selection import train_test_split\n",
    "from sklearn.preprocessing import StandardScaler\n",
    "from sklearn.tree import DecisionTreeRegressor\n",
    "from sklearn.linear_model import LinearRegression\n",
    "import matplotlib.pyplot as plt\n",
    "\n",
    "np.set_printoptions(threshold=np.inf)"
   ]
  },
  {
   "cell_type": "code",
   "execution_count": null,
   "metadata": {},
   "outputs": [],
   "source": [
    "raw_data = pd.read_csv('data/train.csv')"
   ]
  },
  {
   "cell_type": "code",
   "execution_count": null,
   "metadata": {},
   "outputs": [],
   "source": [
    "print(np.unique(raw_data['PlayId'].values).size)\n",
    "print(raw_data.columns)"
   ]
  },
  {
   "cell_type": "code",
   "execution_count": null,
   "metadata": {},
   "outputs": [],
   "source": [
    "raw_data['Temperature'] = raw_data['Temperature'].fillna(raw_data['Temperature'].mean())\n",
    "raw_data['Humidity'] = raw_data['Humidity'].fillna(raw_data['Humidity'].mean())\n",
    "raw_data = raw_data.dropna()"
   ]
  },
  {
   "cell_type": "code",
   "execution_count": null,
   "metadata": {},
   "outputs": [],
   "source": [
    "plays = np.unique(raw_data['PlayId'])\n",
    "plays_trn, plays_val = train_test_split(plays, train_size=0.75)\n",
    "data_trn = raw_data[raw_data['PlayId'].isin(plays_trn)]\n",
    "data_val = raw_data[raw_data['PlayId'].isin(plays_val)]"
   ]
  },
  {
   "cell_type": "code",
   "execution_count": null,
   "metadata": {},
   "outputs": [],
   "source": [
    "def get_time(quarter, clock):\n",
    "    split_time = clock.split(':')\n",
    "    return (quarter-1)*15 + int(split_time[0]) + int(split_time[1])/60\n",
    "\n",
    "def get_distance_to_touchdown(yard_line, possession_team, field_position):\n",
    "    if possession_team != field_position:\n",
    "        return yard_line\n",
    "    else:\n",
    "        return 100 - yard_line\n",
    "\n",
    "def get_time_since_snap(time_handoff, time_snap):\n",
    "    split_handoff = time_handoff.split(':')\n",
    "    handoff_sec = int(split_handoff[1])*60 + int(split_handoff[2].split('.')[0])\n",
    "    split_snap = time_handoff.split(':')\n",
    "    snap_sec = int(split_snap[1])*60 + int(split_snap[2].split('.')[0])\n",
    "    return float(handoff_sec) - float(snap_sec)\n",
    "\n",
    "def get_height(player_height):\n",
    "    split_height = player_height.split('-')\n",
    "    return int(split_height[0])*12 + int(split_height[1])\n",
    "\n",
    "def get_age(player_birth_date):\n",
    "    return 2019 - int(player_birth_date.split('/')[2])\n",
    "\n",
    "def encode_personnel(personnel):\n",
    "    PERSONNELS = ['DB', 'DL', 'LB', 'OL', 'QB', 'RB', 'TE', 'WR']\n",
    "    encoded_personnel = [0]*len(PERSONNELS)\n",
    "    personnel = personnel.replace(' ','')\n",
    "    for i in range(0,len(personnel),4):\n",
    "        encoded_personnel[PERSONNELS.index(personnel[i+1:i+3])] += int(personnel[i])\n",
    "    return encoded_personnel\n",
    "\n",
    "def get_offense_features(formation, personnel):\n",
    "    FORMATIONS = ['SHOTGUN','SINGLEBACK','JUMBO','PISTOL','I_FORM','ACE','WILDCAT','EMPTY']\n",
    "    one_hot_formation = [int(f == formation) for f in FORMATIONS]\n",
    "    return one_hot_formation + encode_personnel(personnel)\n",
    "\n",
    "def get_defense_features(in_the_box, personnel):\n",
    "    return [in_the_box] + encode_personnel(personnel)\n",
    "\n",
    "def make_matrix(data_trn):\n",
    "    BUFFER = 60\n",
    "    offense_player_count = np.zeros((BUFFER*2+1,BUFFER*2+1))\n",
    "    defense_player_count = np.zeros((BUFFER*2+1,BUFFER*2+1))\n",
    "    offense_mean_yards = np.zeros((BUFFER*2+1,BUFFER*2+1))\n",
    "    defense_mean_yards = np.zeros((BUFFER*2+1,BUFFER*2+1))\n",
    "    for _,play in data_trn.groupby(['PlayId']):\n",
    "        offense_team = play.loc[play['NflId'] == play['NflIdRusher'],'Team'].iloc[0]\n",
    "        direction = play['PlayDirection'].iloc[0]\n",
    "        yards = play['Yards'].iloc[0]\n",
    "        ox = play.loc[play['NflId'] == play['NflIdRusher'],'X'].iloc[0]\n",
    "        oy = play.loc[play['NflId'] == play['NflIdRusher'],'Y'].iloc[0]\n",
    "        for _,player in play.iterrows():\n",
    "            x = int(round(player['X']-ox+BUFFER)) if direction == 'right' else int(round(ox-player['X']+BUFFER))\n",
    "            y = int(round(player['Y']-oy+BUFFER))\n",
    "            if player['Team'] == offense_team:\n",
    "                offense_player_count[y,x] += 1\n",
    "                offense_mean_yards[y,x] = offense_mean_yards[y,x] + (yards - offense_mean_yards[y,x]) / offense_player_count[y,x]\n",
    "            else:\n",
    "                defense_player_count[y,x] += 1\n",
    "                defense_mean_yards[y,x] = defense_mean_yards[y,x] + (yards - defense_mean_yards[y,x]) / defense_player_count[y,x]\n",
    "    return offense_player_count,defense_player_count,offense_mean_yards,defense_mean_yards\n",
    "\n",
    "def get_matrix_prediction(offense_player_count,defense_player_count,offense_mean_yards,defense_mean_yards,play):\n",
    "    BUFFER = 60\n",
    "    offense_team = play.loc[play['NflId'] == play['NflIdRusher'],'Team'].iloc[0]\n",
    "    direction = play['PlayDirection'].iloc[0]\n",
    "    yards = play['Yards'].iloc[0]\n",
    "    ox = play.loc[play['NflId'] == play['NflIdRusher'],'X'].iloc[0]\n",
    "    oy = play.loc[play['NflId'] == play['NflIdRusher'],'Y'].iloc[0]\n",
    "    predictions = []\n",
    "    weights = []\n",
    "    for _,player in play.iterrows():\n",
    "        x = int(round(player['X']-ox+BUFFER)) if direction == 'right' else int(round(ox-player['X']+BUFFER))\n",
    "        y = int(round(player['Y']-oy+BUFFER))\n",
    "        if player['Team'] == offense_team:\n",
    "            predictions.append(offense_mean_yards[y,x])\n",
    "            weights.append(offense_player_count[y,x])\n",
    "        else:\n",
    "            predictions.append(defense_mean_yards[y,x])\n",
    "            weights.append(defense_player_count[y,x])\n",
    "    return np.average(predictions, weights=weights)"
   ]
  },
  {
   "cell_type": "code",
   "execution_count": null,
   "metadata": {},
   "outputs": [],
   "source": [
    "for _,play in data_trn.groupby(['PlayId']):\n",
    "    state_features = []\n",
    "    state_features.append(get_distance_to_touchdown(play['YardLine'].iloc[0], play['PossessionTeam'].iloc[0], play['FieldPosition'].iloc[0]))\n",
    "    state_features.append(get_time(play['Quarter'].iloc[0],play['GameClock'].iloc[0]))\n",
    "    state_features.append(play['Down'].iloc[0])\n",
    "    state_features.append(play['Distance'].iloc[0])\n",
    "    state_features.append(get_time_since_snap(play['TimeHandoff'].iloc[0], play['TimeSnap'].iloc[0]))\n",
    "    state_features.append(play['Temperature'].iloc[0])\n",
    "    state_features.append(play['Humidity'].iloc[0])\n",
    "    #state_features.append(get_matrix_prediction(opc,dpc,omy,dmy,play))\n",
    "    offense_features = get_offense_features(play['OffenseFormation'].iloc[0], play['OffensePersonnel'].iloc[0])\n",
    "    defense_features = get_defense_features(play['DefendersInTheBox'].iloc[0], play['DefensePersonnel'].iloc[0])\n",
    "    for t,team in play.groupby(['Team']):\n",
    "        team_features = []\n",
    "        team_features.append(np.mean(team['X']))\n",
    "        team_features.append(np.mean(team['Y']))\n",
    "        team_features.append(np.mean(team['S']))\n",
    "        team_features.append(np.mean(team['A']))\n",
    "        team_features.append(np.mean(team['Dis']))\n",
    "        team_features.append(np.mean(team['Orientation']))\n",
    "        team_features.append(np.mean(team['Dir']))\n",
    "        team_features.append(np.mean(team['PlayerHeight'].apply(lambda x: get_height(x))))\n",
    "        team_features.append(np.mean(team['PlayerWeight']))\n",
    "        team_features.append(np.mean(team['PlayerBirthDate'].apply(lambda x: get_age(x))))\n",
    "        if t == 'home':\n",
    "            team_features.append(team['HomeScoreBeforePlay'].iloc[0])\n",
    "            if team['PossessionTeam'].iloc[0] == team['HomeTeamAbbr'].iloc[0]:\n",
    "                offense_features = offense_features + team_features\n",
    "            else:\n",
    "                defense_features = defense_features + team_features\n",
    "        elif t == 'away':\n",
    "            team_features.append(team['VisitorScoreBeforePlay'].iloc[0])\n",
    "            if team['PossessionTeam'].iloc[0] == team['VisitorTeamAbbr'].iloc[0]:\n",
    "                offense_features = offense_features + team_features\n",
    "            else:\n",
    "                defense_features = defense_features + team_features\n",
    "    if np.amax(np.isnan(state_features + offense_features + defense_features)) == 0:\n",
    "        input_trn.append(state_features + offense_features + defense_features)\n",
    "        target_trn.append(play['Yards'].iloc[0])"
   ]
  },
  {
   "cell_type": "code",
   "execution_count": null,
   "metadata": {},
   "outputs": [],
   "source": [
    "for _,play in data_val.groupby(['PlayId']):\n",
    "    state_features = []\n",
    "    state_features.append(get_distance_to_touchdown(play['YardLine'].iloc[0], play['PossessionTeam'].iloc[0], play['FieldPosition'].iloc[0]))\n",
    "    state_features.append(get_time(play['Quarter'].iloc[0],play['GameClock'].iloc[0]))\n",
    "    state_features.append(play['Down'].iloc[0])\n",
    "    state_features.append(play['Distance'].iloc[0])\n",
    "    state_features.append(get_time_since_snap(play['TimeHandoff'].iloc[0], play['TimeSnap'].iloc[0]))\n",
    "    state_features.append(play['Temperature'].iloc[0])\n",
    "    state_features.append(play['Humidity'].iloc[0])\n",
    "    #state_features.append(get_matrix_prediction(opc,dpc,omy,dmy,play))\n",
    "    offense_features = get_offense_features(play['OffenseFormation'].iloc[0], play['OffensePersonnel'].iloc[0])\n",
    "    defense_features = get_defense_features(play['DefendersInTheBox'].iloc[0], play['DefensePersonnel'].iloc[0])\n",
    "    for t,team in play.groupby(['Team']):\n",
    "        team_features = []\n",
    "        team_features.append(np.mean(team['X']))\n",
    "        team_features.append(np.mean(team['Y']))\n",
    "        team_features.append(np.mean(team['S']))\n",
    "        team_features.append(np.mean(team['A']))\n",
    "        team_features.append(np.mean(team['Dis']))\n",
    "        team_features.append(np.mean(team['Orientation']))\n",
    "        team_features.append(np.mean(team['Dir']))\n",
    "        team_features.append(np.mean(team['PlayerHeight'].apply(lambda x: get_height(x))))\n",
    "        team_features.append(np.mean(team['PlayerWeight']))\n",
    "        team_features.append(np.mean(team['PlayerBirthDate'].apply(lambda x: get_age(x))))\n",
    "        if t == 'home':\n",
    "            team_features.append(team['HomeScoreBeforePlay'].iloc[0])\n",
    "            if team['PossessionTeam'].iloc[0] == team['HomeTeamAbbr'].iloc[0]:\n",
    "                offense_features = offense_features + team_features\n",
    "            else:\n",
    "                defense_features = defense_features + team_features\n",
    "        elif t == 'away':\n",
    "            team_features.append(team['VisitorScoreBeforePlay'].iloc[0])\n",
    "            if team['PossessionTeam'].iloc[0] == team['VisitorTeamAbbr'].iloc[0]:\n",
    "                offense_features = offense_features + team_features\n",
    "            else:\n",
    "                defense_features = defense_features + team_features\n",
    "    if np.amax(np.isnan(state_features + offense_features + defense_features)) == 0:\n",
    "        input_val.append(state_features + offense_features + defense_features)\n",
    "        target_val.append(play['Yards'].iloc[0])"
   ]
  },
  {
   "cell_type": "markdown",
   "metadata": {},
   "source": [
    "# Data Exploration: Exploring the your data\n",
    "\n",
    "** plot some properties/statistics/distribution of your data** "
   ]
  },
  {
   "cell_type": "code",
   "execution_count": 30,
   "metadata": {},
   "outputs": [],
   "source": [
    "P_GAIN = 5\n",
    "P_BUFFER = int(60 * P_GAIN)\n",
    "V_GAIN = 10\n",
    "V_BUFFER = int(20 * V_GAIN)\n",
    "off_p_count = np.zeros((P_BUFFER*2+1,P_BUFFER*2+1))\n",
    "off_v_count = np.zeros((V_BUFFER*2+1,V_BUFFER*2+1))\n",
    "def_p_count = np.zeros((P_BUFFER*2+1,P_BUFFER*2+1))\n",
    "def_v_count = np.zeros((V_BUFFER*2+1,V_BUFFER*2+1))\n",
    "off_p_yards = np.zeros((P_BUFFER*2+1,P_BUFFER*2+1))\n",
    "off_v_yards = np.zeros((V_BUFFER*2+1,V_BUFFER*2+1))\n",
    "def_p_yards = np.zeros((P_BUFFER*2+1,P_BUFFER*2+1))\n",
    "def_v_yards = np.zeros((V_BUFFER*2+1,V_BUFFER*2+1))\n",
    "for _,play in data_trn.groupby(['PlayId']):\n",
    "    offense_team = play.loc[play['NflId'] == play['NflIdRusher'],'Team'].iloc[0]\n",
    "    direction = play['PlayDirection'].iloc[0]\n",
    "    yards = play['Yards'].iloc[0]\n",
    "    runner = play.loc[play['NflId'] == play['NflIdRusher']]\n",
    "    opx = runner['X'] * P_GAIN\n",
    "    opy = runner['Y'] * P_GAIN\n",
    "    ovx = runner['S'] * np.sin(np.deg2rad(runner['Dir'])) * V_GAIN\n",
    "    ovy = runner['S'] * np.cos(np.deg2rad(runner['Dir'])) * V_GAIN\n",
    "    for _,player in play.iterrows():\n",
    "        px = int(round(player['X'] * P_GAIN - opx + P_BUFFER))\n",
    "        py = int(round(player['Y'] * P_GAIN - opy + P_BUFFER))\n",
    "        vx = int(round(player['S'] * np.sin(np.deg2rad(player['Dir'])) * V_GAIN - ovy + V_BUFFER))\n",
    "        vy = int(round(player['S'] * np.cos(np.deg2rad(player['Dir'])) * V_GAIN - ovy + V_BUFFER))\n",
    "        if direction != 'right':\n",
    "            px = int(round(opx - player['X'] * P_GAIN + P_BUFFER))\n",
    "            vx = int(round(ovy - player['S'] * np.sin(np.deg2rad(player['Dir'])) * V_GAIN + V_BUFFER))\n",
    "        if player['Team'] == offense_team:\n",
    "            off_p_count[py,px] += 1\n",
    "            off_v_count[vy,vx] += 1\n",
    "            off_p_yards[py,px] = off_p_yards[py,px] + (yards - off_p_yards[py,px]) / off_p_count[py,px]\n",
    "            off_v_yards[vy,vx] = off_v_yards[vy,vx] + (yards - off_v_yards[vy,vx]) / off_v_count[vy,vx]\n",
    "        else:\n",
    "            def_p_count[py,px] += 1\n",
    "            def_v_count[vy,vx] += 1\n",
    "            def_p_yards[py,px] = def_p_yards[py,px] + (yards - def_p_yards[py,px]) / def_p_count[py,px]\n",
    "            def_v_yards[vy,vx] = def_v_yards[vy,vx] + (yards - def_v_yards[vy,vx]) / def_v_count[vy,vx]"
   ]
  },
  {
   "cell_type": "code",
   "execution_count": null,
   "metadata": {},
   "outputs": [],
   "source": [
    "off_p_yards[off_p_count==0] = np.nan\n",
    "off_p_fig = plt.figure(figsize=(25,20))\n",
    "ax = sns.heatmap(off_p_yards,-15,40,cmap='BuPu')\n",
    "\n",
    "off_v_yards[off_v_count==0] = np.nan\n",
    "off_v_fig = plt.figure(figsize=(25,20))\n",
    "ax = sns.heatmap(off_v_yards,-15,40,cmap='BuPu')\n",
    "\n",
    "def_p_yards[def_p_count==0] = np.nan\n",
    "def_p_fig = plt.figure(figsize=(25,20))\n",
    "ax = sns.heatmap(def_p_yards,-15,40,cmap='BuPu')\n",
    "\n",
    "def_v_yards[def_v_count==0] = np.nan\n",
    "def_v_fig = plt.figure(figsize=(25,20))\n",
    "ax = sns.heatmap(def_v_yards,-15,40,cmap='BuPu')"
   ]
  },
  {
   "cell_type": "markdown",
   "metadata": {},
   "source": [
    "# The Solution: implement a data science solution to the problem you are trying to solve."
   ]
  },
  {
   "cell_type": "markdown",
   "metadata": {},
   "source": [
    "Briefly describe the idea of your solution to the problem in the following cell:"
   ]
  },
  {
   "cell_type": "code",
   "execution_count": null,
   "metadata": {
    "collapsed": true
   },
   "outputs": [],
   "source": [
    "Using linear regression we will use the features we extracted to model the number of yards run in a play."
   ]
  },
  {
   "cell_type": "markdown",
   "metadata": {},
   "source": [
    "Write codes to implement the solution in python:"
   ]
  },
  {
   "cell_type": "code",
   "execution_count": 2,
   "metadata": {},
   "outputs": [],
   "source": [
    "input_trn = np.stack(input_trn)\n",
    "input_val = np.stack(input_val)\n",
    "target_trn = np.stack(target_trn)\n",
    "target_val = np.stack(target_val)"
   ]
  },
  {
   "cell_type": "code",
   "execution_count": null,
   "metadata": {},
   "outputs": [],
   "source": [
    "dtr = DecisionTreeRegressor(min_samples_leaf=128)\n",
    "lr = LinearRegression()\n",
    "dtr.fit(input_trn,target_trn)\n",
    "error = dtr.predict(input_val) - target_val\n",
    "squared_error = error * error\n",
    "mse.append(np.mean(squared_error))\n",
    "print(np.mean(squared_error))\n",
    "lr.fit(input_trn,target_trn)\n",
    "error = lr.predict(input_val) - target_val\n",
    "squared_error = error * error\n",
    "print(np.mean(squared_error))\n",
    "print(np.mean((np.mean(target_trn)-target_val)*(np.mean(target_trn)-target_val)))"
   ]
  },
  {
   "cell_type": "code",
   "execution_count": null,
   "metadata": {},
   "outputs": [],
   "source": [
    "lr.coef_"
   ]
  },
  {
   "cell_type": "code",
   "execution_count": null,
   "metadata": {},
   "outputs": [],
   "source": [
    "input_ss = StandardScaler()\n",
    "input_trn = input_ss.fit_transform(input_trn)\n",
    "input_val = input_ss.transform(input_val)\n",
    "model = Sequential()\n",
    "model.add(Dense(units=16, activation='relu', input_shape=(input_trn.shape[1:])))\n",
    "model.add(Dense(units=1,activation='softmax'))\n",
    "model.compile(optimizer='adam',loss='mse',metrics=['accuracy'])\n",
    "callbacks = [EarlyStopping(monitor='val_loss',patience=5,restore_best_weights=False)]"
   ]
  },
  {
   "cell_type": "code",
   "execution_count": null,
   "metadata": {},
   "outputs": [],
   "source": [
    "model.fit(x=input_trn, y=target_trn, epochs=1000, verbose=1, callbacks=callbacks, validation_data=(input_val,target_val))"
   ]
  },
  {
   "cell_type": "code",
   "execution_count": null,
   "metadata": {},
   "outputs": [],
   "source": [
    "prediction = model.predict(input_val)\n",
    "print(np.mean((prediction-target_val)*(prediction-target_val)))"
   ]
  },
  {
   "cell_type": "markdown",
   "metadata": {},
   "source": [
    "# Results: summarize and visualize the results discovered from the analysis\n",
    "\n",
    "Please use figures, tables, or videos to communicate the results with the audience.\n"
   ]
  },
  {
   "cell_type": "code",
   "execution_count": null,
   "metadata": {
    "collapsed": true
   },
   "outputs": [],
   "source": [
    "plt.scatter(target_val,lr.predict(input_val))"
   ]
  },
  {
   "cell_type": "markdown",
   "metadata": {},
   "source": [
    "*-----------------\n",
    "# Done\n",
    "\n",
    "All set! \n",
    "\n",
    "** What do you need to submit?**\n",
    "\n",
    "* **Notebook File**: Save this Jupyter notebook, and find the notebook file in your folder (for example, \"filename.ipynb\"). This is the file you need to submit. Please make sure all the plotted tables and figures are in the notebook. If you used \"jupyter notebook --pylab=inline\" to open the notebook, all the figures and tables should have shown up in the notebook.\n",
    "\n",
    "* **PPT Slides**: please prepare PPT slides (for 7 minutes' talk) to present about the case study . Each team present their case studies in class for 7 minutes.\n",
    "\n",
    "Please compress all the files in a zipped file.\n",
    "\n",
    "\n",
    "** How to submit: **\n",
    "\n",
    "        Please submit through Canvas, in the Assignment \"Case Study 4\".\n",
    "        \n",
    "** Note: Each team only needs to submit one submission in Canvas **"
   ]
  },
  {
   "cell_type": "code",
   "execution_count": null,
   "metadata": {
    "collapsed": true
   },
   "outputs": [],
   "source": []
  }
 ],
 "metadata": {
  "kernelspec": {
   "display_name": "Python 3",
   "language": "python",
   "name": "python3"
  },
  "language_info": {
   "codemirror_mode": {
    "name": "ipython",
    "version": 3
   },
   "file_extension": ".py",
   "mimetype": "text/x-python",
   "name": "python",
   "nbconvert_exporter": "python",
   "pygments_lexer": "ipython3",
   "version": "3.7.4"
  }
 },
 "nbformat": 4,
 "nbformat_minor": 1
}
